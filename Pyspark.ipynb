{
  "nbformat": 4,
  "nbformat_minor": 0,
  "metadata": {
    "colab": {
      "provenance": []
    },
    "kernelspec": {
      "name": "python3",
      "display_name": "Python 3"
    },
    "language_info": {
      "name": "python"
    }
  },
  "cells": [
    {
      "cell_type": "markdown",
      "source": [
        "##### Install pyspark\n",
        "##### Import and Create SparkSession\n",
        "##### Read Data from .csv file\n",
        "##### Create and Add view/table to the spark(Object created from SparkSession).\n",
        "#####"
      ],
      "metadata": {
        "id": "0chthgPFFIw-"
      }
    },
    {
      "cell_type": "code",
      "source": [
        "pip install pyspark"
      ],
      "metadata": {
        "colab": {
          "base_uri": "https://localhost:8080/"
        },
        "id": "ZUsqXZqC9niZ",
        "outputId": "fafb2df1-973d-4be0-e08f-f4d3222a0604"
      },
      "execution_count": 10,
      "outputs": [
        {
          "output_type": "stream",
          "name": "stdout",
          "text": [
            "Requirement already satisfied: pyspark in /usr/local/lib/python3.10/dist-packages (3.5.0)\n",
            "Requirement already satisfied: py4j==0.10.9.7 in /usr/local/lib/python3.10/dist-packages (from pyspark) (0.10.9.7)\n"
          ]
        }
      ]
    },
    {
      "cell_type": "code",
      "execution_count": 11,
      "metadata": {
        "id": "A-9E2NtXWJFb"
      },
      "outputs": [],
      "source": [
        "import pyspark\n"
      ]
    },
    {
      "cell_type": "code",
      "source": [
        "from pyspark.sql import SparkSession"
      ],
      "metadata": {
        "id": "hoe658ryWQiE"
      },
      "execution_count": 12,
      "outputs": []
    },
    {
      "cell_type": "code",
      "source": [
        "spark = SparkSession.builder.appName('PysparkApp').getOrCreate()"
      ],
      "metadata": {
        "id": "j85ZUQFIWiUA"
      },
      "execution_count": 13,
      "outputs": []
    },
    {
      "cell_type": "code",
      "source": [
        "print(spark)"
      ],
      "metadata": {
        "colab": {
          "base_uri": "https://localhost:8080/"
        },
        "id": "ye2Qeg9QWx1B",
        "outputId": "4c95ab9d-5a5d-4125-f02a-36bfa9898827"
      },
      "execution_count": 14,
      "outputs": [
        {
          "output_type": "stream",
          "name": "stdout",
          "text": [
            "<pyspark.sql.session.SparkSession object at 0x7e7d802bf400>\n"
          ]
        }
      ]
    },
    {
      "cell_type": "markdown",
      "source": [
        "\n",
        "\n",
        "---\n",
        "\n",
        "\n",
        "### Reading data from .csv file\n",
        "\n",
        "\n",
        "---\n",
        "\n"
      ],
      "metadata": {
        "id": "vzzw3d-R-ZVZ"
      }
    },
    {
      "cell_type": "code",
      "source": [
        "df = spark.read.csv('Region_Master.csv', header=True, inferSchema=True)"
      ],
      "metadata": {
        "id": "pSJ2JXu09kc0"
      },
      "execution_count": 15,
      "outputs": []
    },
    {
      "cell_type": "code",
      "source": [
        "df.show()"
      ],
      "metadata": {
        "colab": {
          "base_uri": "https://localhost:8080/"
        },
        "id": "VrhZLzVW-k7o",
        "outputId": "a6c108ee-bc5d-4163-ae0d-a22e0f56edf6"
      },
      "execution_count": 16,
      "outputs": [
        {
          "output_type": "stream",
          "name": "stdout",
          "text": [
            "+------+--------------------+\n",
            "|REG_NO|         REGION_DESC|\n",
            "+------+--------------------+\n",
            "|     1|       1-DKI Jakarta|\n",
            "|     2|        2-Jawa Barat|\n",
            "|     3|3-Jawa Timur\\x09 ...|\n",
            "|     4|4-Sulawesi\\x09 Ma...|\n",
            "|     5|        5-Kalimantan|\n",
            "|     6|          6-Sumatera|\n",
            "|     7|7-Jawa Tengah dan...|\n",
            "|     8|                0-HO|\n",
            "+------+--------------------+\n",
            "\n"
          ]
        }
      ]
    },
    {
      "cell_type": "markdown",
      "source": [
        "\n",
        "\n",
        "---\n",
        "\n",
        "\n",
        "### Creating and Adding view to the spark object.\n",
        "\n",
        "\n",
        "\n",
        "---\n",
        "\n",
        "\n",
        "\n",
        "\n",
        "\n",
        "\n",
        "\n",
        "\n",
        "\n",
        "\n",
        "\n",
        "\n"
      ],
      "metadata": {
        "id": "A-dMt9OSDbFc"
      }
    },
    {
      "cell_type": "code",
      "source": [
        "df.createOrReplaceTempView('df_view')\n",
        "result = spark.sql('select * from df_view')\n",
        "result.show()"
      ],
      "metadata": {
        "colab": {
          "base_uri": "https://localhost:8080/"
        },
        "id": "bZFP0r74-oua",
        "outputId": "95b7eab4-b21f-45b9-c2c7-c0cdc3058f72"
      },
      "execution_count": 17,
      "outputs": [
        {
          "output_type": "stream",
          "name": "stdout",
          "text": [
            "+------+--------------------+\n",
            "|REG_NO|         REGION_DESC|\n",
            "+------+--------------------+\n",
            "|     1|       1-DKI Jakarta|\n",
            "|     2|        2-Jawa Barat|\n",
            "|     3|3-Jawa Timur\\x09 ...|\n",
            "|     4|4-Sulawesi\\x09 Ma...|\n",
            "|     5|        5-Kalimantan|\n",
            "|     6|          6-Sumatera|\n",
            "|     7|7-Jawa Tengah dan...|\n",
            "|     8|                0-HO|\n",
            "+------+--------------------+\n",
            "\n"
          ]
        }
      ]
    },
    {
      "cell_type": "code",
      "source": [
        "tables = spark.catalog.listTables()\n",
        "for table in tables:\n",
        "  print(table)"
      ],
      "metadata": {
        "colab": {
          "base_uri": "https://localhost:8080/"
        },
        "id": "nuMhdQVZ-oMy",
        "outputId": "2137f887-4ef0-4d52-e0ce-989665ded3ab"
      },
      "execution_count": 18,
      "outputs": [
        {
          "output_type": "stream",
          "name": "stdout",
          "text": [
            "Table(name='df_view', catalog=None, namespace=[], description=None, tableType='TEMPORARY', isTemporary=True)\n"
          ]
        }
      ]
    },
    {
      "cell_type": "code",
      "source": [
        "#Manipulating ceated view using sql query\n",
        "query = 'select * from df_view where reg_no%2=0'\n",
        "output = spark.sql(query)\n",
        "output.show()   #type(output) ->pyspark.sql.dataframe.DataFrame"
      ],
      "metadata": {
        "colab": {
          "base_uri": "https://localhost:8080/"
        },
        "id": "Tk-jPNQnGIkQ",
        "outputId": "c5e9093b-0ca7-4648-f937-79588369c474"
      },
      "execution_count": 19,
      "outputs": [
        {
          "output_type": "stream",
          "name": "stdout",
          "text": [
            "+------+--------------------+\n",
            "|REG_NO|         REGION_DESC|\n",
            "+------+--------------------+\n",
            "|     2|        2-Jawa Barat|\n",
            "|     4|4-Sulawesi\\x09 Ma...|\n",
            "|     6|          6-Sumatera|\n",
            "|     8|                0-HO|\n",
            "+------+--------------------+\n",
            "\n"
          ]
        }
      ]
    },
    {
      "cell_type": "code",
      "source": [
        "type(output)"
      ],
      "metadata": {
        "colab": {
          "base_uri": "https://localhost:8080/"
        },
        "id": "-q50LH1AGIbq",
        "outputId": "af7a3162-f723-473e-c9ff-9bd2897077ad"
      },
      "execution_count": 20,
      "outputs": [
        {
          "output_type": "execute_result",
          "data": {
            "text/plain": [
              "pyspark.sql.dataframe.DataFrame"
            ]
          },
          "metadata": {},
          "execution_count": 20
        }
      ]
    },
    {
      "cell_type": "markdown",
      "source": [
        "\n",
        "\n",
        "---\n",
        "\n",
        "\n",
        "##### Spark DataFrame to Pandas DataFrame\n",
        "\n",
        "\n",
        "---\n",
        "\n"
      ],
      "metadata": {
        "id": "u-oWvlPYTUKy"
      }
    },
    {
      "cell_type": "code",
      "source": [
        "pandasDF = output.toPandas()\n",
        "pandasDF"
      ],
      "metadata": {
        "colab": {
          "base_uri": "https://localhost:8080/",
          "height": 175
        },
        "id": "jrmFAfQJGIWU",
        "outputId": "73a27619-4378-408e-8081-a78e1c897d7b"
      },
      "execution_count": 21,
      "outputs": [
        {
          "output_type": "execute_result",
          "data": {
            "text/plain": [
              "   REG_NO                      REGION_DESC\n",
              "0       2                     2-Jawa Barat\n",
              "1       4  4-Sulawesi\\x09 Maluku dan Papua\n",
              "2       6                       6-Sumatera\n",
              "3       8                             0-HO"
            ],
            "text/html": [
              "\n",
              "  <div id=\"df-5337a556-0981-4b7c-895b-b07e5c0399d1\" class=\"colab-df-container\">\n",
              "    <div>\n",
              "<style scoped>\n",
              "    .dataframe tbody tr th:only-of-type {\n",
              "        vertical-align: middle;\n",
              "    }\n",
              "\n",
              "    .dataframe tbody tr th {\n",
              "        vertical-align: top;\n",
              "    }\n",
              "\n",
              "    .dataframe thead th {\n",
              "        text-align: right;\n",
              "    }\n",
              "</style>\n",
              "<table border=\"1\" class=\"dataframe\">\n",
              "  <thead>\n",
              "    <tr style=\"text-align: right;\">\n",
              "      <th></th>\n",
              "      <th>REG_NO</th>\n",
              "      <th>REGION_DESC</th>\n",
              "    </tr>\n",
              "  </thead>\n",
              "  <tbody>\n",
              "    <tr>\n",
              "      <th>0</th>\n",
              "      <td>2</td>\n",
              "      <td>2-Jawa Barat</td>\n",
              "    </tr>\n",
              "    <tr>\n",
              "      <th>1</th>\n",
              "      <td>4</td>\n",
              "      <td>4-Sulawesi\\x09 Maluku dan Papua</td>\n",
              "    </tr>\n",
              "    <tr>\n",
              "      <th>2</th>\n",
              "      <td>6</td>\n",
              "      <td>6-Sumatera</td>\n",
              "    </tr>\n",
              "    <tr>\n",
              "      <th>3</th>\n",
              "      <td>8</td>\n",
              "      <td>0-HO</td>\n",
              "    </tr>\n",
              "  </tbody>\n",
              "</table>\n",
              "</div>\n",
              "    <div class=\"colab-df-buttons\">\n",
              "\n",
              "  <div class=\"colab-df-container\">\n",
              "    <button class=\"colab-df-convert\" onclick=\"convertToInteractive('df-5337a556-0981-4b7c-895b-b07e5c0399d1')\"\n",
              "            title=\"Convert this dataframe to an interactive table.\"\n",
              "            style=\"display:none;\">\n",
              "\n",
              "  <svg xmlns=\"http://www.w3.org/2000/svg\" height=\"24px\" viewBox=\"0 -960 960 960\">\n",
              "    <path d=\"M120-120v-720h720v720H120Zm60-500h600v-160H180v160Zm220 220h160v-160H400v160Zm0 220h160v-160H400v160ZM180-400h160v-160H180v160Zm440 0h160v-160H620v160ZM180-180h160v-160H180v160Zm440 0h160v-160H620v160Z\"/>\n",
              "  </svg>\n",
              "    </button>\n",
              "\n",
              "  <style>\n",
              "    .colab-df-container {\n",
              "      display:flex;\n",
              "      gap: 12px;\n",
              "    }\n",
              "\n",
              "    .colab-df-convert {\n",
              "      background-color: #E8F0FE;\n",
              "      border: none;\n",
              "      border-radius: 50%;\n",
              "      cursor: pointer;\n",
              "      display: none;\n",
              "      fill: #1967D2;\n",
              "      height: 32px;\n",
              "      padding: 0 0 0 0;\n",
              "      width: 32px;\n",
              "    }\n",
              "\n",
              "    .colab-df-convert:hover {\n",
              "      background-color: #E2EBFA;\n",
              "      box-shadow: 0px 1px 2px rgba(60, 64, 67, 0.3), 0px 1px 3px 1px rgba(60, 64, 67, 0.15);\n",
              "      fill: #174EA6;\n",
              "    }\n",
              "\n",
              "    .colab-df-buttons div {\n",
              "      margin-bottom: 4px;\n",
              "    }\n",
              "\n",
              "    [theme=dark] .colab-df-convert {\n",
              "      background-color: #3B4455;\n",
              "      fill: #D2E3FC;\n",
              "    }\n",
              "\n",
              "    [theme=dark] .colab-df-convert:hover {\n",
              "      background-color: #434B5C;\n",
              "      box-shadow: 0px 1px 3px 1px rgba(0, 0, 0, 0.15);\n",
              "      filter: drop-shadow(0px 1px 2px rgba(0, 0, 0, 0.3));\n",
              "      fill: #FFFFFF;\n",
              "    }\n",
              "  </style>\n",
              "\n",
              "    <script>\n",
              "      const buttonEl =\n",
              "        document.querySelector('#df-5337a556-0981-4b7c-895b-b07e5c0399d1 button.colab-df-convert');\n",
              "      buttonEl.style.display =\n",
              "        google.colab.kernel.accessAllowed ? 'block' : 'none';\n",
              "\n",
              "      async function convertToInteractive(key) {\n",
              "        const element = document.querySelector('#df-5337a556-0981-4b7c-895b-b07e5c0399d1');\n",
              "        const dataTable =\n",
              "          await google.colab.kernel.invokeFunction('convertToInteractive',\n",
              "                                                    [key], {});\n",
              "        if (!dataTable) return;\n",
              "\n",
              "        const docLinkHtml = 'Like what you see? Visit the ' +\n",
              "          '<a target=\"_blank\" href=https://colab.research.google.com/notebooks/data_table.ipynb>data table notebook</a>'\n",
              "          + ' to learn more about interactive tables.';\n",
              "        element.innerHTML = '';\n",
              "        dataTable['output_type'] = 'display_data';\n",
              "        await google.colab.output.renderOutput(dataTable, element);\n",
              "        const docLink = document.createElement('div');\n",
              "        docLink.innerHTML = docLinkHtml;\n",
              "        element.appendChild(docLink);\n",
              "      }\n",
              "    </script>\n",
              "  </div>\n",
              "\n",
              "\n",
              "<div id=\"df-22f6efc8-1f7c-4730-8b65-0283ead15113\">\n",
              "  <button class=\"colab-df-quickchart\" onclick=\"quickchart('df-22f6efc8-1f7c-4730-8b65-0283ead15113')\"\n",
              "            title=\"Suggest charts.\"\n",
              "            style=\"display:none;\">\n",
              "\n",
              "<svg xmlns=\"http://www.w3.org/2000/svg\" height=\"24px\"viewBox=\"0 0 24 24\"\n",
              "     width=\"24px\">\n",
              "    <g>\n",
              "        <path d=\"M19 3H5c-1.1 0-2 .9-2 2v14c0 1.1.9 2 2 2h14c1.1 0 2-.9 2-2V5c0-1.1-.9-2-2-2zM9 17H7v-7h2v7zm4 0h-2V7h2v10zm4 0h-2v-4h2v4z\"/>\n",
              "    </g>\n",
              "</svg>\n",
              "  </button>\n",
              "\n",
              "<style>\n",
              "  .colab-df-quickchart {\n",
              "      --bg-color: #E8F0FE;\n",
              "      --fill-color: #1967D2;\n",
              "      --hover-bg-color: #E2EBFA;\n",
              "      --hover-fill-color: #174EA6;\n",
              "      --disabled-fill-color: #AAA;\n",
              "      --disabled-bg-color: #DDD;\n",
              "  }\n",
              "\n",
              "  [theme=dark] .colab-df-quickchart {\n",
              "      --bg-color: #3B4455;\n",
              "      --fill-color: #D2E3FC;\n",
              "      --hover-bg-color: #434B5C;\n",
              "      --hover-fill-color: #FFFFFF;\n",
              "      --disabled-bg-color: #3B4455;\n",
              "      --disabled-fill-color: #666;\n",
              "  }\n",
              "\n",
              "  .colab-df-quickchart {\n",
              "    background-color: var(--bg-color);\n",
              "    border: none;\n",
              "    border-radius: 50%;\n",
              "    cursor: pointer;\n",
              "    display: none;\n",
              "    fill: var(--fill-color);\n",
              "    height: 32px;\n",
              "    padding: 0;\n",
              "    width: 32px;\n",
              "  }\n",
              "\n",
              "  .colab-df-quickchart:hover {\n",
              "    background-color: var(--hover-bg-color);\n",
              "    box-shadow: 0 1px 2px rgba(60, 64, 67, 0.3), 0 1px 3px 1px rgba(60, 64, 67, 0.15);\n",
              "    fill: var(--button-hover-fill-color);\n",
              "  }\n",
              "\n",
              "  .colab-df-quickchart-complete:disabled,\n",
              "  .colab-df-quickchart-complete:disabled:hover {\n",
              "    background-color: var(--disabled-bg-color);\n",
              "    fill: var(--disabled-fill-color);\n",
              "    box-shadow: none;\n",
              "  }\n",
              "\n",
              "  .colab-df-spinner {\n",
              "    border: 2px solid var(--fill-color);\n",
              "    border-color: transparent;\n",
              "    border-bottom-color: var(--fill-color);\n",
              "    animation:\n",
              "      spin 1s steps(1) infinite;\n",
              "  }\n",
              "\n",
              "  @keyframes spin {\n",
              "    0% {\n",
              "      border-color: transparent;\n",
              "      border-bottom-color: var(--fill-color);\n",
              "      border-left-color: var(--fill-color);\n",
              "    }\n",
              "    20% {\n",
              "      border-color: transparent;\n",
              "      border-left-color: var(--fill-color);\n",
              "      border-top-color: var(--fill-color);\n",
              "    }\n",
              "    30% {\n",
              "      border-color: transparent;\n",
              "      border-left-color: var(--fill-color);\n",
              "      border-top-color: var(--fill-color);\n",
              "      border-right-color: var(--fill-color);\n",
              "    }\n",
              "    40% {\n",
              "      border-color: transparent;\n",
              "      border-right-color: var(--fill-color);\n",
              "      border-top-color: var(--fill-color);\n",
              "    }\n",
              "    60% {\n",
              "      border-color: transparent;\n",
              "      border-right-color: var(--fill-color);\n",
              "    }\n",
              "    80% {\n",
              "      border-color: transparent;\n",
              "      border-right-color: var(--fill-color);\n",
              "      border-bottom-color: var(--fill-color);\n",
              "    }\n",
              "    90% {\n",
              "      border-color: transparent;\n",
              "      border-bottom-color: var(--fill-color);\n",
              "    }\n",
              "  }\n",
              "</style>\n",
              "\n",
              "  <script>\n",
              "    async function quickchart(key) {\n",
              "      const quickchartButtonEl =\n",
              "        document.querySelector('#' + key + ' button');\n",
              "      quickchartButtonEl.disabled = true;  // To prevent multiple clicks.\n",
              "      quickchartButtonEl.classList.add('colab-df-spinner');\n",
              "      try {\n",
              "        const charts = await google.colab.kernel.invokeFunction(\n",
              "            'suggestCharts', [key], {});\n",
              "      } catch (error) {\n",
              "        console.error('Error during call to suggestCharts:', error);\n",
              "      }\n",
              "      quickchartButtonEl.classList.remove('colab-df-spinner');\n",
              "      quickchartButtonEl.classList.add('colab-df-quickchart-complete');\n",
              "    }\n",
              "    (() => {\n",
              "      let quickchartButtonEl =\n",
              "        document.querySelector('#df-22f6efc8-1f7c-4730-8b65-0283ead15113 button');\n",
              "      quickchartButtonEl.style.display =\n",
              "        google.colab.kernel.accessAllowed ? 'block' : 'none';\n",
              "    })();\n",
              "  </script>\n",
              "</div>\n",
              "    </div>\n",
              "  </div>\n"
            ]
          },
          "metadata": {},
          "execution_count": 21
        }
      ]
    },
    {
      "cell_type": "markdown",
      "source": [
        "\n",
        "\n",
        "---\n",
        "\n",
        "\n",
        "##### Spark DataFrame to Pandas DataFrame\n",
        "\n",
        "\n",
        "---\n",
        "\n"
      ],
      "metadata": {
        "id": "5iu5tvavTd5Y"
      }
    },
    {
      "cell_type": "code",
      "source": [
        "#PandasDF (variable) already converted in pandas dataframe, we'll use it here.\n",
        "pysparkDF = spark.createDataFrame(pandasDF)\n",
        "# type(pysparkDF)   #pyspark.sql.dataframe.DataFrame\n",
        "pysparkDF.show()"
      ],
      "metadata": {
        "colab": {
          "base_uri": "https://localhost:8080/"
        },
        "id": "Mu9v4P-qGIRQ",
        "outputId": "d4178782-e5f8-43d8-b7c5-cb1e44d0d05c"
      },
      "execution_count": 22,
      "outputs": [
        {
          "output_type": "stream",
          "name": "stdout",
          "text": [
            "+------+--------------------+\n",
            "|REG_NO|         REGION_DESC|\n",
            "+------+--------------------+\n",
            "|     2|        2-Jawa Barat|\n",
            "|     4|4-Sulawesi\\x09 Ma...|\n",
            "|     6|          6-Sumatera|\n",
            "|     8|                0-HO|\n",
            "+------+--------------------+\n",
            "\n"
          ]
        }
      ]
    },
    {
      "cell_type": "markdown",
      "source": [
        "\n",
        "\n",
        "---\n",
        "\n",
        "\n",
        "### Adding Columns\n",
        "\n",
        "\n",
        "---\n",
        "\n"
      ],
      "metadata": {
        "id": "Ku_uEy1ukuNF"
      }
    },
    {
      "cell_type": "code",
      "source": [
        "data = spark.read.csv('Region_Master.csv', header=True, inferSchema=True)\n",
        "data.show()"
      ],
      "metadata": {
        "colab": {
          "base_uri": "https://localhost:8080/"
        },
        "id": "nNyK0N6IkzzC",
        "outputId": "d0125c96-4f53-4c45-9cd9-cb82228de45c"
      },
      "execution_count": 23,
      "outputs": [
        {
          "output_type": "stream",
          "name": "stdout",
          "text": [
            "+------+--------------------+\n",
            "|REG_NO|         REGION_DESC|\n",
            "+------+--------------------+\n",
            "|     1|       1-DKI Jakarta|\n",
            "|     2|        2-Jawa Barat|\n",
            "|     3|3-Jawa Timur\\x09 ...|\n",
            "|     4|4-Sulawesi\\x09 Ma...|\n",
            "|     5|        5-Kalimantan|\n",
            "|     6|          6-Sumatera|\n",
            "|     7|7-Jawa Tengah dan...|\n",
            "|     8|                0-HO|\n",
            "+------+--------------------+\n",
            "\n"
          ]
        }
      ]
    },
    {
      "cell_type": "code",
      "source": [
        "#Adding Column\n",
        "data.withColumn('new_col', data['reg_no']*10).show()"
      ],
      "metadata": {
        "colab": {
          "base_uri": "https://localhost:8080/"
        },
        "id": "6-Bn2hcrkzwR",
        "outputId": "b2b0209e-d726-4540-8072-780afaf9d7d8"
      },
      "execution_count": 24,
      "outputs": [
        {
          "output_type": "stream",
          "name": "stdout",
          "text": [
            "+------+--------------------+-------+\n",
            "|REG_NO|         REGION_DESC|new_col|\n",
            "+------+--------------------+-------+\n",
            "|     1|       1-DKI Jakarta|     10|\n",
            "|     2|        2-Jawa Barat|     20|\n",
            "|     3|3-Jawa Timur\\x09 ...|     30|\n",
            "|     4|4-Sulawesi\\x09 Ma...|     40|\n",
            "|     5|        5-Kalimantan|     50|\n",
            "|     6|          6-Sumatera|     60|\n",
            "|     7|7-Jawa Tengah dan...|     70|\n",
            "|     8|                0-HO|     80|\n",
            "+------+--------------------+-------+\n",
            "\n"
          ]
        }
      ]
    },
    {
      "cell_type": "code",
      "source": [
        "def new_col_value(val):\n",
        "  return 'yes' if val%2==0 else 'no'"
      ],
      "metadata": {
        "id": "tvihq3BboUd3"
      },
      "execution_count": 25,
      "outputs": []
    },
    {
      "cell_type": "code",
      "source": [
        "# spark.catalog.listTables()    #[Table(name='df_view', catalog=None, namespace=[], description=None, tableType='TEMPORARY', isTemporary=True)]\n",
        "\n",
        "def new_col_value(val):\n",
        "  return ('yes' if val%2==0 else 'no')\n",
        "\n",
        "\n",
        "if __name__=='__main__':\n",
        "  tables = spark.table('df_view')\n",
        "  tables.show()\n",
        "  tables.withColumn('new column', new_col_value(tables['REG_NO'])).show()"
      ],
      "metadata": {
        "colab": {
          "base_uri": "https://localhost:8080/",
          "height": 599
        },
        "id": "hVpoO709kzuU",
        "outputId": "d11b0de9-487a-459c-ce3e-a9d0a88764fb"
      },
      "execution_count": 32,
      "outputs": [
        {
          "output_type": "stream",
          "name": "stdout",
          "text": [
            "+------+--------------------+\n",
            "|REG_NO|         REGION_DESC|\n",
            "+------+--------------------+\n",
            "|     1|       1-DKI Jakarta|\n",
            "|     2|        2-Jawa Barat|\n",
            "|     3|3-Jawa Timur\\x09 ...|\n",
            "|     4|4-Sulawesi\\x09 Ma...|\n",
            "|     5|        5-Kalimantan|\n",
            "|     6|          6-Sumatera|\n",
            "|     7|7-Jawa Tengah dan...|\n",
            "|     8|                0-HO|\n",
            "+------+--------------------+\n",
            "\n"
          ]
        },
        {
          "output_type": "error",
          "ename": "PySparkValueError",
          "evalue": "ignored",
          "traceback": [
            "\u001b[0;31m---------------------------------------------------------------------------\u001b[0m",
            "\u001b[0;31mPySparkValueError\u001b[0m                         Traceback (most recent call last)",
            "\u001b[0;32m<ipython-input-32-bfcf495391e5>\u001b[0m in \u001b[0;36m<cell line: 9>\u001b[0;34m()\u001b[0m\n\u001b[1;32m     10\u001b[0m   \u001b[0mtables\u001b[0m \u001b[0;34m=\u001b[0m \u001b[0mspark\u001b[0m\u001b[0;34m.\u001b[0m\u001b[0mtable\u001b[0m\u001b[0;34m(\u001b[0m\u001b[0;34m'df_view'\u001b[0m\u001b[0;34m)\u001b[0m\u001b[0;34m\u001b[0m\u001b[0;34m\u001b[0m\u001b[0m\n\u001b[1;32m     11\u001b[0m   \u001b[0mtables\u001b[0m\u001b[0;34m.\u001b[0m\u001b[0mshow\u001b[0m\u001b[0;34m(\u001b[0m\u001b[0;34m)\u001b[0m\u001b[0;34m\u001b[0m\u001b[0;34m\u001b[0m\u001b[0m\n\u001b[0;32m---> 12\u001b[0;31m   \u001b[0mtables\u001b[0m\u001b[0;34m.\u001b[0m\u001b[0mwithColumn\u001b[0m\u001b[0;34m(\u001b[0m\u001b[0;34m'new column'\u001b[0m\u001b[0;34m,\u001b[0m \u001b[0mnew_col_value\u001b[0m\u001b[0;34m(\u001b[0m\u001b[0mtables\u001b[0m\u001b[0;34m[\u001b[0m\u001b[0;34m'REG_NO'\u001b[0m\u001b[0;34m]\u001b[0m\u001b[0;34m)\u001b[0m\u001b[0;34m)\u001b[0m\u001b[0;34m.\u001b[0m\u001b[0mshow\u001b[0m\u001b[0;34m(\u001b[0m\u001b[0;34m)\u001b[0m\u001b[0;34m\u001b[0m\u001b[0;34m\u001b[0m\u001b[0m\n\u001b[0m",
            "\u001b[0;32m<ipython-input-32-bfcf495391e5>\u001b[0m in \u001b[0;36mnew_col_value\u001b[0;34m(val)\u001b[0m\n\u001b[1;32m      3\u001b[0m \u001b[0;32mdef\u001b[0m \u001b[0mnew_col_value\u001b[0m\u001b[0;34m(\u001b[0m\u001b[0mval\u001b[0m\u001b[0;34m)\u001b[0m\u001b[0;34m:\u001b[0m\u001b[0;34m\u001b[0m\u001b[0;34m\u001b[0m\u001b[0m\n\u001b[1;32m      4\u001b[0m   \u001b[0;31m# return ('yes' if val%2==0 else 'no')\u001b[0m\u001b[0;34m\u001b[0m\u001b[0;34m\u001b[0m\u001b[0m\n\u001b[0;32m----> 5\u001b[0;31m   \u001b[0;32mif\u001b[0m \u001b[0mval\u001b[0m\u001b[0;34m%\u001b[0m\u001b[0;36m2\u001b[0m\u001b[0;34m==\u001b[0m\u001b[0;36m0\u001b[0m\u001b[0;34m:\u001b[0m\u001b[0;34m\u001b[0m\u001b[0;34m\u001b[0m\u001b[0m\n\u001b[0m\u001b[1;32m      6\u001b[0m     \u001b[0;32mreturn\u001b[0m \u001b[0;36m1\u001b[0m\u001b[0;34m\u001b[0m\u001b[0;34m\u001b[0m\u001b[0m\n\u001b[1;32m      7\u001b[0m   \u001b[0;32mreturn\u001b[0m \u001b[0;36m0\u001b[0m\u001b[0;34m\u001b[0m\u001b[0;34m\u001b[0m\u001b[0m\n",
            "\u001b[0;32m/usr/local/lib/python3.10/dist-packages/pyspark/sql/column.py\u001b[0m in \u001b[0;36m__nonzero__\u001b[0;34m(self)\u001b[0m\n\u001b[1;32m   1398\u001b[0m \u001b[0;34m\u001b[0m\u001b[0m\n\u001b[1;32m   1399\u001b[0m     \u001b[0;32mdef\u001b[0m \u001b[0m__nonzero__\u001b[0m\u001b[0;34m(\u001b[0m\u001b[0mself\u001b[0m\u001b[0;34m)\u001b[0m \u001b[0;34m->\u001b[0m \u001b[0;32mNone\u001b[0m\u001b[0;34m:\u001b[0m\u001b[0;34m\u001b[0m\u001b[0;34m\u001b[0m\u001b[0m\n\u001b[0;32m-> 1400\u001b[0;31m         raise PySparkValueError(\n\u001b[0m\u001b[1;32m   1401\u001b[0m             \u001b[0merror_class\u001b[0m\u001b[0;34m=\u001b[0m\u001b[0;34m\"CANNOT_CONVERT_COLUMN_INTO_BOOL\"\u001b[0m\u001b[0;34m,\u001b[0m\u001b[0;34m\u001b[0m\u001b[0;34m\u001b[0m\u001b[0m\n\u001b[1;32m   1402\u001b[0m             \u001b[0mmessage_parameters\u001b[0m\u001b[0;34m=\u001b[0m\u001b[0;34m{\u001b[0m\u001b[0;34m}\u001b[0m\u001b[0;34m,\u001b[0m\u001b[0;34m\u001b[0m\u001b[0;34m\u001b[0m\u001b[0m\n",
            "\u001b[0;31mPySparkValueError\u001b[0m: [CANNOT_CONVERT_COLUMN_INTO_BOOL] Cannot convert column into bool: please use '&' for 'and', '|' for 'or', '~' for 'not' when building DataFrame boolean expressions."
          ]
        }
      ]
    },
    {
      "cell_type": "code",
      "source": [
        "from pyspark.sql.functions import when\n",
        "\n",
        "def new_col_value(val):\n",
        "    return when(val % 2 == 0, 'yes').otherwise('no')\n",
        "\n",
        "if __name__ == '__main__':\n",
        "    tables = spark.table('df_view')\n",
        "    tables.show()\n",
        "    tables.withColumn('new column', new_col_value(tables['REG_NO'])).show()\n"
      ],
      "metadata": {
        "colab": {
          "base_uri": "https://localhost:8080/"
        },
        "id": "IpRUDmM9YcR-",
        "outputId": "c38e0e9e-bdee-474f-885e-cb8c99a11551"
      },
      "execution_count": 30,
      "outputs": [
        {
          "output_type": "stream",
          "name": "stdout",
          "text": [
            "+------+--------------------+\n",
            "|REG_NO|         REGION_DESC|\n",
            "+------+--------------------+\n",
            "|     1|       1-DKI Jakarta|\n",
            "|     2|        2-Jawa Barat|\n",
            "|     3|3-Jawa Timur\\x09 ...|\n",
            "|     4|4-Sulawesi\\x09 Ma...|\n",
            "|     5|        5-Kalimantan|\n",
            "|     6|          6-Sumatera|\n",
            "|     7|7-Jawa Tengah dan...|\n",
            "|     8|                0-HO|\n",
            "+------+--------------------+\n",
            "\n",
            "+------+--------------------+----------+\n",
            "|REG_NO|         REGION_DESC|new column|\n",
            "+------+--------------------+----------+\n",
            "|     1|       1-DKI Jakarta|        no|\n",
            "|     2|        2-Jawa Barat|       yes|\n",
            "|     3|3-Jawa Timur\\x09 ...|        no|\n",
            "|     4|4-Sulawesi\\x09 Ma...|       yes|\n",
            "|     5|        5-Kalimantan|        no|\n",
            "|     6|          6-Sumatera|       yes|\n",
            "|     7|7-Jawa Tengah dan...|        no|\n",
            "|     8|                0-HO|       yes|\n",
            "+------+--------------------+----------+\n",
            "\n"
          ]
        }
      ]
    },
    {
      "cell_type": "code",
      "source": [
        "print(type(input()))"
      ],
      "metadata": {
        "colab": {
          "base_uri": "https://localhost:8080/"
        },
        "id": "uz7k9QzdkzsM",
        "outputId": "cb8e486d-2f86-4367-830d-63334564df9a"
      },
      "execution_count": 34,
      "outputs": [
        {
          "output_type": "stream",
          "name": "stdout",
          "text": [
            "13\n",
            "<class 'str'>\n"
          ]
        }
      ]
    },
    {
      "cell_type": "markdown",
      "source": [
        "\n",
        "\n",
        "---\n",
        "\n",
        "\n",
        "\n",
        "---\n",
        "\n"
      ],
      "metadata": {
        "id": "gjGGK1vJgxaK"
      }
    },
    {
      "cell_type": "code",
      "source": [
        "readdf=spark.read.format(\"jdbc\").option(\"url\",\"jdbc:oracle:thin:@blrtrnorcldb001.fintellix.com:1521:ORCLCDB\").\\\n",
        "option(\"dbtable\",'emp').\\\n",
        "option(\"user\",\"i41621\").\\\n",
        "option(\"password\",\"Welcome1\").\\\n",
        "option(\"driver\",\"oracle.jdbc.driver.OracleDriver\").\\\n",
        "load()"
      ],
      "metadata": {
        "colab": {
          "base_uri": "https://localhost:8080/",
          "height": 860
        },
        "id": "Ak45_maeP3PX",
        "outputId": "3583f3fe-7449-4007-a0a9-cf28fe6069e4"
      },
      "execution_count": null,
      "outputs": [
        {
          "output_type": "error",
          "ename": "Py4JJavaError",
          "evalue": "ignored",
          "traceback": [
            "\u001b[0;31m---------------------------------------------------------------------------\u001b[0m",
            "\u001b[0;31mPy4JJavaError\u001b[0m                             Traceback (most recent call last)",
            "\u001b[0;32m<ipython-input-14-1861aabbe68e>\u001b[0m in \u001b[0;36m<cell line: 1>\u001b[0;34m()\u001b[0m\n\u001b[1;32m      4\u001b[0m \u001b[0moption\u001b[0m\u001b[0;34m(\u001b[0m\u001b[0;34m\"password\"\u001b[0m\u001b[0;34m,\u001b[0m\u001b[0;34m\"Welcome1\"\u001b[0m\u001b[0;34m)\u001b[0m\u001b[0;34m.\u001b[0m\u001b[0;31m\\\u001b[0m\u001b[0;34m\u001b[0m\u001b[0;34m\u001b[0m\u001b[0m\n\u001b[1;32m      5\u001b[0m \u001b[0moption\u001b[0m\u001b[0;34m(\u001b[0m\u001b[0;34m\"driver\"\u001b[0m\u001b[0;34m,\u001b[0m\u001b[0;34m\"oracle.jdbc.driver.OracleDriver\"\u001b[0m\u001b[0;34m)\u001b[0m\u001b[0;34m.\u001b[0m\u001b[0;31m\\\u001b[0m\u001b[0;34m\u001b[0m\u001b[0;34m\u001b[0m\u001b[0m\n\u001b[0;32m----> 6\u001b[0;31m \u001b[0mload\u001b[0m\u001b[0;34m(\u001b[0m\u001b[0;34m)\u001b[0m\u001b[0;34m\u001b[0m\u001b[0;34m\u001b[0m\u001b[0m\n\u001b[0m",
            "\u001b[0;32m/usr/local/lib/python3.10/dist-packages/pyspark/sql/readwriter.py\u001b[0m in \u001b[0;36mload\u001b[0;34m(self, path, format, schema, **options)\u001b[0m\n\u001b[1;32m    312\u001b[0m             \u001b[0;32mreturn\u001b[0m \u001b[0mself\u001b[0m\u001b[0;34m.\u001b[0m\u001b[0m_df\u001b[0m\u001b[0;34m(\u001b[0m\u001b[0mself\u001b[0m\u001b[0;34m.\u001b[0m\u001b[0m_jreader\u001b[0m\u001b[0;34m.\u001b[0m\u001b[0mload\u001b[0m\u001b[0;34m(\u001b[0m\u001b[0mself\u001b[0m\u001b[0;34m.\u001b[0m\u001b[0m_spark\u001b[0m\u001b[0;34m.\u001b[0m\u001b[0m_sc\u001b[0m\u001b[0;34m.\u001b[0m\u001b[0m_jvm\u001b[0m\u001b[0;34m.\u001b[0m\u001b[0mPythonUtils\u001b[0m\u001b[0;34m.\u001b[0m\u001b[0mtoSeq\u001b[0m\u001b[0;34m(\u001b[0m\u001b[0mpath\u001b[0m\u001b[0;34m)\u001b[0m\u001b[0;34m)\u001b[0m\u001b[0;34m)\u001b[0m\u001b[0;34m\u001b[0m\u001b[0;34m\u001b[0m\u001b[0m\n\u001b[1;32m    313\u001b[0m         \u001b[0;32melse\u001b[0m\u001b[0;34m:\u001b[0m\u001b[0;34m\u001b[0m\u001b[0;34m\u001b[0m\u001b[0m\n\u001b[0;32m--> 314\u001b[0;31m             \u001b[0;32mreturn\u001b[0m \u001b[0mself\u001b[0m\u001b[0;34m.\u001b[0m\u001b[0m_df\u001b[0m\u001b[0;34m(\u001b[0m\u001b[0mself\u001b[0m\u001b[0;34m.\u001b[0m\u001b[0m_jreader\u001b[0m\u001b[0;34m.\u001b[0m\u001b[0mload\u001b[0m\u001b[0;34m(\u001b[0m\u001b[0;34m)\u001b[0m\u001b[0;34m)\u001b[0m\u001b[0;34m\u001b[0m\u001b[0;34m\u001b[0m\u001b[0m\n\u001b[0m\u001b[1;32m    315\u001b[0m \u001b[0;34m\u001b[0m\u001b[0m\n\u001b[1;32m    316\u001b[0m     def json(\n",
            "\u001b[0;32m/usr/local/lib/python3.10/dist-packages/py4j/java_gateway.py\u001b[0m in \u001b[0;36m__call__\u001b[0;34m(self, *args)\u001b[0m\n\u001b[1;32m   1320\u001b[0m \u001b[0;34m\u001b[0m\u001b[0m\n\u001b[1;32m   1321\u001b[0m         \u001b[0manswer\u001b[0m \u001b[0;34m=\u001b[0m \u001b[0mself\u001b[0m\u001b[0;34m.\u001b[0m\u001b[0mgateway_client\u001b[0m\u001b[0;34m.\u001b[0m\u001b[0msend_command\u001b[0m\u001b[0;34m(\u001b[0m\u001b[0mcommand\u001b[0m\u001b[0;34m)\u001b[0m\u001b[0;34m\u001b[0m\u001b[0;34m\u001b[0m\u001b[0m\n\u001b[0;32m-> 1322\u001b[0;31m         return_value = get_return_value(\n\u001b[0m\u001b[1;32m   1323\u001b[0m             answer, self.gateway_client, self.target_id, self.name)\n\u001b[1;32m   1324\u001b[0m \u001b[0;34m\u001b[0m\u001b[0m\n",
            "\u001b[0;32m/usr/local/lib/python3.10/dist-packages/pyspark/errors/exceptions/captured.py\u001b[0m in \u001b[0;36mdeco\u001b[0;34m(*a, **kw)\u001b[0m\n\u001b[1;32m    177\u001b[0m     \u001b[0;32mdef\u001b[0m \u001b[0mdeco\u001b[0m\u001b[0;34m(\u001b[0m\u001b[0;34m*\u001b[0m\u001b[0ma\u001b[0m\u001b[0;34m:\u001b[0m \u001b[0mAny\u001b[0m\u001b[0;34m,\u001b[0m \u001b[0;34m**\u001b[0m\u001b[0mkw\u001b[0m\u001b[0;34m:\u001b[0m \u001b[0mAny\u001b[0m\u001b[0;34m)\u001b[0m \u001b[0;34m->\u001b[0m \u001b[0mAny\u001b[0m\u001b[0;34m:\u001b[0m\u001b[0;34m\u001b[0m\u001b[0;34m\u001b[0m\u001b[0m\n\u001b[1;32m    178\u001b[0m         \u001b[0;32mtry\u001b[0m\u001b[0;34m:\u001b[0m\u001b[0;34m\u001b[0m\u001b[0;34m\u001b[0m\u001b[0m\n\u001b[0;32m--> 179\u001b[0;31m             \u001b[0;32mreturn\u001b[0m \u001b[0mf\u001b[0m\u001b[0;34m(\u001b[0m\u001b[0;34m*\u001b[0m\u001b[0ma\u001b[0m\u001b[0;34m,\u001b[0m \u001b[0;34m**\u001b[0m\u001b[0mkw\u001b[0m\u001b[0;34m)\u001b[0m\u001b[0;34m\u001b[0m\u001b[0;34m\u001b[0m\u001b[0m\n\u001b[0m\u001b[1;32m    180\u001b[0m         \u001b[0;32mexcept\u001b[0m \u001b[0mPy4JJavaError\u001b[0m \u001b[0;32mas\u001b[0m \u001b[0me\u001b[0m\u001b[0;34m:\u001b[0m\u001b[0;34m\u001b[0m\u001b[0;34m\u001b[0m\u001b[0m\n\u001b[1;32m    181\u001b[0m             \u001b[0mconverted\u001b[0m \u001b[0;34m=\u001b[0m \u001b[0mconvert_exception\u001b[0m\u001b[0;34m(\u001b[0m\u001b[0me\u001b[0m\u001b[0;34m.\u001b[0m\u001b[0mjava_exception\u001b[0m\u001b[0;34m)\u001b[0m\u001b[0;34m\u001b[0m\u001b[0;34m\u001b[0m\u001b[0m\n",
            "\u001b[0;32m/usr/local/lib/python3.10/dist-packages/py4j/protocol.py\u001b[0m in \u001b[0;36mget_return_value\u001b[0;34m(answer, gateway_client, target_id, name)\u001b[0m\n\u001b[1;32m    324\u001b[0m             \u001b[0mvalue\u001b[0m \u001b[0;34m=\u001b[0m \u001b[0mOUTPUT_CONVERTER\u001b[0m\u001b[0;34m[\u001b[0m\u001b[0mtype\u001b[0m\u001b[0;34m]\u001b[0m\u001b[0;34m(\u001b[0m\u001b[0manswer\u001b[0m\u001b[0;34m[\u001b[0m\u001b[0;36m2\u001b[0m\u001b[0;34m:\u001b[0m\u001b[0;34m]\u001b[0m\u001b[0;34m,\u001b[0m \u001b[0mgateway_client\u001b[0m\u001b[0;34m)\u001b[0m\u001b[0;34m\u001b[0m\u001b[0;34m\u001b[0m\u001b[0m\n\u001b[1;32m    325\u001b[0m             \u001b[0;32mif\u001b[0m \u001b[0manswer\u001b[0m\u001b[0;34m[\u001b[0m\u001b[0;36m1\u001b[0m\u001b[0;34m]\u001b[0m \u001b[0;34m==\u001b[0m \u001b[0mREFERENCE_TYPE\u001b[0m\u001b[0;34m:\u001b[0m\u001b[0;34m\u001b[0m\u001b[0;34m\u001b[0m\u001b[0m\n\u001b[0;32m--> 326\u001b[0;31m                 raise Py4JJavaError(\n\u001b[0m\u001b[1;32m    327\u001b[0m                     \u001b[0;34m\"An error occurred while calling {0}{1}{2}.\\n\"\u001b[0m\u001b[0;34m.\u001b[0m\u001b[0;34m\u001b[0m\u001b[0;34m\u001b[0m\u001b[0m\n\u001b[1;32m    328\u001b[0m                     format(target_id, \".\", name), value)\n",
            "\u001b[0;31mPy4JJavaError\u001b[0m: An error occurred while calling o62.load.\n: java.lang.ClassNotFoundException: oracle.jdbc.driver.OracleDriver\n\tat java.base/java.net.URLClassLoader.findClass(URLClassLoader.java:476)\n\tat java.base/java.lang.ClassLoader.loadClass(ClassLoader.java:594)\n\tat java.base/java.lang.ClassLoader.loadClass(ClassLoader.java:527)\n\tat org.apache.spark.sql.execution.datasources.jdbc.DriverRegistry$.register(DriverRegistry.scala:46)\n\tat org.apache.spark.sql.execution.datasources.jdbc.JDBCOptions.$anonfun$driverClass$1(JDBCOptions.scala:103)\n\tat org.apache.spark.sql.execution.datasources.jdbc.JDBCOptions.$anonfun$driverClass$1$adapted(JDBCOptions.scala:103)\n\tat scala.Option.foreach(Option.scala:407)\n\tat org.apache.spark.sql.execution.datasources.jdbc.JDBCOptions.<init>(JDBCOptions.scala:103)\n\tat org.apache.spark.sql.execution.datasources.jdbc.JDBCOptions.<init>(JDBCOptions.scala:41)\n\tat org.apache.spark.sql.execution.datasources.jdbc.JdbcRelationProvider.createRelation(JdbcRelationProvider.scala:34)\n\tat org.apache.spark.sql.execution.datasources.DataSource.resolveRelation(DataSource.scala:346)\n\tat org.apache.spark.sql.DataFrameReader.loadV1Source(DataFrameReader.scala:229)\n\tat org.apache.spark.sql.DataFrameReader.$anonfun$load$2(DataFrameReader.scala:211)\n\tat scala.Option.getOrElse(Option.scala:189)\n\tat org.apache.spark.sql.DataFrameReader.load(DataFrameReader.scala:211)\n\tat org.apache.spark.sql.DataFrameReader.load(DataFrameReader.scala:172)\n\tat java.base/jdk.internal.reflect.NativeMethodAccessorImpl.invoke0(Native Method)\n\tat java.base/jdk.internal.reflect.NativeMethodAccessorImpl.invoke(NativeMethodAccessorImpl.java:62)\n\tat java.base/jdk.internal.reflect.DelegatingMethodAccessorImpl.invoke(DelegatingMethodAccessorImpl.java:43)\n\tat java.base/java.lang.reflect.Method.invoke(Method.java:566)\n\tat py4j.reflection.MethodInvoker.invoke(MethodInvoker.java:244)\n\tat py4j.reflection.ReflectionEngine.invoke(ReflectionEngine.java:374)\n\tat py4j.Gateway.invoke(Gateway.java:282)\n\tat py4j.commands.AbstractCommand.invokeMethod(AbstractCommand.java:132)\n\tat py4j.commands.CallCommand.execute(CallCommand.java:79)\n\tat py4j.ClientServerConnection.waitForCommands(ClientServerConnection.java:182)\n\tat py4j.ClientServerConnection.run(ClientServerConnection.java:106)\n\tat java.base/java.lang.Thread.run(Thread.java:829)\n"
          ]
        }
      ]
    },
    {
      "cell_type": "code",
      "source": [
        "df = spark.read.csv('data.csv', header=True)"
      ],
      "metadata": {
        "id": "ohyDKYK1TVie"
      },
      "execution_count": null,
      "outputs": []
    },
    {
      "cell_type": "code",
      "source": [
        "df.show()"
      ],
      "metadata": {
        "colab": {
          "base_uri": "https://localhost:8080/"
        },
        "id": "HTBRPPYFTU9g",
        "outputId": "154c25e3-07a7-41d8-8f76-786934b2c9a6"
      },
      "execution_count": null,
      "outputs": [
        {
          "output_type": "stream",
          "name": "stdout",
          "text": [
            "+---------------------+-------------+----------+---------------+---------+--------------+---------+---------+------------+-----------+-----------------+-----------------+-----------------+-----------------+-------------+----------------+------------+----------------+-------------+------------------+----------+-------------+-----------+-------------------+-----------------+------------------+---------------+-----------------+---------------+----------------+--------------+------------------+----------------+------------+--------------------+-----------------------+\n",
            "|PRODUCT_INSTANCE_BKEY|IDENTITY_CODE|AS_OF_DATE|ISO_CURRENCY_CD|AMRT_TERM|AMRT_TERM_MULT|BRANCH_CD|  CIF_KEY|CUR_BOOK_BAL|DATA_SOURCE|GEOGRAPHIC_LOC_CD|LAST_PAYMENT_DATE|LAST_REPRICE_DATE|MARKET_SEGMENT_CD|MATURITY_DATE|OPEN_ACCOUNT_FLG|ORG_BOOK_BAL|ORIGINATION_DATE|REMAIN_TERM_C|REMAIN_TERM_MULT_C|ISSUE_DATE|BDI_LOB_XSELL|CUSTOMER_ID|SERVICE_OUTLET_BKEY|PRODUCT_TYPE_BKEY|Prod_Sub_Type_Code|ACCOUNT_OFFICER|ACCOUNT_OPEN_DATE|AVG_Monthly_BAL|Accrued Interest|Debit_Interest|Unpaid_Item_charge|Min_Bal_Required|Account_type|OverDraft_Status_Ind|Account_Maintenance_Fee|\n",
            "+---------------------+-------------+----------+---------------+---------+--------------+---------+---------+------------+-----------+-----------------+-----------------+-----------------+-----------------+-------------+----------------+------------+----------------+-------------+------------------+----------+-------------+-----------+-------------------+-----------------+------------------+---------------+-----------------+---------------+----------------+--------------+------------------+----------------+------------+--------------------+-----------------------+\n",
            "|      CH-865526978524|     20131129|29-11-2013|            IDR|     NULL|          NULL|    32000| 33843933|           0|         11|                3|             NULL|       29-11-2013|               12|   01-01-2014|               2|           0|      29-11-2013|           33|                 D|17-04-2012|            0|     112655|               3200|             DEMD|              SAVG|          RM-71|       27-03-1997|         406468|        16258.72|     2276.2208|       2003.074304|           10000|     Savings|                  OD|               325.1744|\n",
            "|      CH-235839978594|     20131129|29-11-2013|            IDR|     NULL|          NULL|    36800| 33605955|      269500|         11|                3|             NULL|       29-11-2013|               12|   01-01-2014|               1|      269500|      29-11-2013|           33|                 D|24-10-2013|            0|     103763|               3680|             DEMD|              SAVG|          RM-56|       15-11-1999|         418251|        16730.04|     2174.9052|        2066.15994|           10000|     Savings|                NULL|               334.6008|\n",
            "|      CH-965554688564|     20131129|29-11-2013|            IDR|     NULL|          NULL|    87281| 33877991| 7001535.222|         11|                7|             NULL|       29-11-2013|               12|   01-01-2014|               1| 7001535.222|      29-11-2013|           33|                 D|03-05-2012|            0|     113907|               8728|             DEMD|              SAVG|          RM-65|       28-07-1997|         480759|         9615.18|     1153.8216|        969.210144|           10000|     Savings|                NULL|               384.6072|\n",
            "|      CH-465554778554|     20131129|29-11-2013|            IDR|     NULL|          NULL|    70200| 33837931|           0|         11|                7|             NULL|       29-11-2013|               12|   01-01-2014|               2|           0|      29-11-2013|           33|                 D|03-05-2012|            0|     112472|               7020|             DEMD|              SAVG|          RM-46|       13-07-2006|         188821|         7552.84|     1057.3976|        962.231816|           10000|     Savings|                NULL|               151.0568|\n",
            "|      CH-42551738004.|     20131129|29-11-2013|            IDR|     NULL|          NULL|    60500| 23691941|  4985825841|         11|                6|             NULL|       29-11-2013|               13|   01-01-2014|               1|  4985825841|      29-11-2013|           33|                 D|13-05-2004|            0|      57422|               6050|             DEMD|              SAVG|           RM-7|       28-01-2010|         279090|          2790.9|       334.908|         277.97364|           10000|     Savings|                NULL|                223.272|\n",
            "|      CH-685626348524|     20131129|29-11-2013|            IDR|     NULL|          NULL|    20900| 33912975|           0|         11|                2|             NULL|       29-11-2013|               12|   01-01-2014|               2|           0|      29-11-2013|           33|                 D|29-05-2012|            0|     115239|               2090|             DEMD|              SAVG|          RM-45|       15-10-2006|         344619|        17230.95|     1895.4045|        1743.77214|           10000|     Savings|                  OD|               275.6952|\n",
            "|      CH-182047308024|     20131129|29-11-2013|            IDR|     NULL|          NULL|    52600|123343954|           0|         11|                5|             NULL|       29-11-2013|               12|   01-01-2014|               2|           0|      29-11-2013|           33|                 D|18-06-2008|            0|     147348|               5260|             DEMD|              SAVG|          RM-52|       21-11-2010|          64482|         1289.64|       193.446|         160.56018|           10000|     Savings|                NULL|                51.5856|\n",
            "|      CH-195658628504|     20131129|29-11-2013|            IDR|     NULL|          NULL|    10400| 33948921|   31695.686|         11|                1|             NULL|       29-11-2013|               12|   01-01-2014|               2|   31695.686|      29-11-2013|           33|                 D|22-06-2012|            0|     116482|               1040|             DEMD|              SAVG|          RM-25|       25-05-2000|          57543|         2301.72|       230.172|         193.34448|           10000|     Savings|                NULL|                46.0344|\n",
            "|      CH-585643478504|     20131129|29-11-2013|            IDR|     NULL|          NULL|    36900| 33935938|           0|         11|                3|             NULL|       29-11-2013|               12|   01-01-2014|               2|           0|      29-11-2013|           33|                 D|13-06-2012|            0|     116024|               3690|             DEMD|              SAVG|           RM-2|       12-07-1998|         100347|         3010.41|      391.3533|        340.477371|           10000|     Savings|                  OD|                80.2776|\n",
            "|      CH-195664158584|     20131129|29-11-2013|            IDR|     NULL|          NULL|     1600| 33970958| 24487259.29|         11|                1|             NULL|       29-11-2013|               12|   01-01-2014|               1| 24487259.29|      29-11-2013|           33|                 D|04-07-2012|            0|     117299|               1600|             DEMD|              SAVG|          RM-54|       05-07-2000|         152659|         7632.95|      839.6245|         688.49209|           10000|     Savings|                NULL|               122.1272|\n",
            "|      CH-705651228504|     20131129|29-11-2013|            IDR|     NULL|          NULL|     3600| 33064921|  362684.267|         11|                1|             NULL|       29-11-2013|               12|   01-01-2014|               1|  362684.267|      29-11-2013|           33|                 D|18-07-2012|            0|      82954|               3600|             DEMD|              SAVG|          RM-15|       18-11-2004|         400265|         16010.6|       1601.06|         1504.9964|           10000|     Savings|                NULL|                320.212|\n",
            "|      CH-985719648554|     20131129|29-11-2013|            IDR|     NULL|          NULL|    65400| 33331942| 8021376.022|         11|                6|             NULL|       29-11-2013|               12|   01-01-2014|               1| 8021376.022|      29-11-2013|           33|                 D|21-12-2012|            0|      93520|               6540|             DEMD|              SAVG|          RM-40|       16-01-1998|         117321|         3519.63|      457.5519|        370.617039|           10000|     Savings|                NULL|                93.8568|\n",
            "|      CH-212637268054|     20131129|29-11-2013|            IDR|     NULL|          NULL|    73600|123293959|  314554.196|         11|                7|             NULL|       29-11-2013|               12|   01-01-2014|               2|  314554.196|      29-11-2013|           33|                 D|11-04-2005|            0|     143166|               7360|             DEMD|              SAVG|          RM-52|       11-01-1997|         292018|         2920.18|       438.027|         381.08349|           10000|     Savings|                NULL|               233.6144|\n",
            "|      CH-652289318094|     20131129|29-11-2013|            IDR|     NULL|          NULL|     2200| 23554921|  240450.694|         11|                1|             NULL|       29-11-2013|               12|   01-01-2014|               1|  240450.694|      29-11-2013|           33|                 D|04-10-2000|            0|      45481|               2200|             DEMD|              SAVG|          RM-74|       07-04-1999|         147081|         1470.81|       147.081|         133.84371|           10000|     Savings|                NULL|               117.6648|\n",
            "|      CH-815779338584|     20131129|29-11-2013|            IDR|     NULL|          NULL|    37600| 33595976|  353355.442|         11|                3|             NULL|       29-11-2013|               12|   01-01-2014|               1|  13-06-2867|      29-11-2013|           33|                 D|28-02-2013|            0|     103363|               3760|             DEMD|              SAVG|          RM-68|       19-05-2002|         492071|        19682.84|      2952.426|        2598.13488|           10000|     Savings|                NULL|               393.6568|\n",
            "|      CH-615775048544|     20131129|29-11-2013|            IDR|     NULL|          NULL|    52900| 33523997|   60368.594|         11|                5|             NULL|       29-11-2013|               12|   01-01-2014|               1|   60368.594|      29-11-2013|           33|                 D|20-02-2013|            0|     100741|               5290|             DEMD|              SAVG|          RM-97|       09-02-2004|         209251|         4185.02|      460.3522|         437.33459|           10000|     Savings|                NULL|               167.4008|\n",
            "|      CH-425795818524|     20131129|29-11-2013|            IDR|     NULL|          NULL|    42900| 33598936|   13267.122|         11|                4|             NULL|       29-11-2013|               12|   01-01-2014|               1|   13267.122|      29-11-2013|           33|                 D|13-03-2013|            0|     103463|               4290|             DEMD|              SAVG|          RM-83|       17-06-2013|         161368|         6454.72|       968.208|         803.61264|           10000|     Savings|                NULL|               129.0944|\n",
            "|      CH-895721348584|     20131129|29-11-2013|            IDR|     NULL|          NULL|    38500| 33436928|   234942.18|         11|                3|             NULL|       29-11-2013|               12|   01-01-2014|               1|   234942.18|      29-11-2013|           33|                 D|21-01-2013|            0|      97472|               3850|             DEMD|              SAVG|           RM-5|       21-08-2013|         452844|         4528.44|      588.6972|        547.488396|           10000|     Savings|                NULL|               362.2752|\n",
            "|      CH-905737608584|     20131129|29-11-2013|            IDR|     NULL|          NULL|     3500| 33409966|   73923.333|         11|                1|             NULL|       29-11-2013|               12|   01-01-2014|               1|   73923.333|      29-11-2013|           33|                 D|04-02-2013|            0|      96483|               3500|             DEMD|              SAVG|           RM-1|       02-03-2003|         341444|         6828.88|      751.1768|        608.453208|           10000|     Savings|                NULL|               273.1552|\n",
            "|      CH-715755148544|     20131129|29-11-2013|            IDR|     NULL|          NULL|    30400| 33503976|   27787.529|         11|                3|             NULL|       29-11-2013|               12|   01-01-2014|               2|   27787.529|      29-11-2013|           33|                 D|20-02-2013|            0|     100068|               3040|             DEMD|              SAVG|          RM-89|       14-08-2003|         150105|         1501.05|      195.1365|         163.91466|           10000|     Savings|                NULL|                120.084|\n",
            "+---------------------+-------------+----------+---------------+---------+--------------+---------+---------+------------+-----------+-----------------+-----------------+-----------------+-----------------+-------------+----------------+------------+----------------+-------------+------------------+----------+-------------+-----------+-------------------+-----------------+------------------+---------------+-----------------+---------------+----------------+--------------+------------------+----------------+------------+--------------------+-----------------------+\n",
            "only showing top 20 rows\n",
            "\n"
          ]
        }
      ]
    },
    {
      "cell_type": "code",
      "source": [
        "df.count() #33599"
      ],
      "metadata": {
        "colab": {
          "base_uri": "https://localhost:8080/"
        },
        "id": "NeWwPlUnY3Pd",
        "outputId": "379e1986-5f0d-4540-f898-c5195dc1c9d7"
      },
      "execution_count": null,
      "outputs": [
        {
          "output_type": "execute_result",
          "data": {
            "text/plain": [
              "33599"
            ]
          },
          "metadata": {},
          "execution_count": 21
        }
      ]
    },
    {
      "cell_type": "markdown",
      "source": [
        "## Null Value Handling\n"
      ],
      "metadata": {
        "id": "t64kecmpeXoc"
      }
    },
    {
      "cell_type": "markdown",
      "source": [
        "#### Importing col"
      ],
      "metadata": {
        "id": "8CIBFQlZctMt"
      }
    },
    {
      "cell_type": "code",
      "source": [
        "from pyspark.sql.functions import col"
      ],
      "metadata": {
        "id": "XHofwc_1cqsa"
      },
      "execution_count": null,
      "outputs": []
    },
    {
      "cell_type": "code",
      "source": [
        "df.filter(col('OverDraft_Status_Ind').isNull()).show()"
      ],
      "metadata": {
        "colab": {
          "base_uri": "https://localhost:8080/"
        },
        "id": "NrTOeXsAaERe",
        "outputId": "aac89477-e139-4b48-e8d0-0f36150bb4a8"
      },
      "execution_count": null,
      "outputs": [
        {
          "output_type": "stream",
          "name": "stdout",
          "text": [
            "+---------------------+-------------+----------+---------------+---------+--------------+---------+---------+------------+-----------+-----------------+-----------------+-----------------+-----------------+-------------+----------------+------------+----------------+-------------+------------------+----------+-------------+-----------+-------------------+-----------------+------------------+---------------+-----------------+---------------+----------------+--------------+------------------+----------------+------------+--------------------+-----------------------+\n",
            "|PRODUCT_INSTANCE_BKEY|IDENTITY_CODE|AS_OF_DATE|ISO_CURRENCY_CD|AMRT_TERM|AMRT_TERM_MULT|BRANCH_CD|  CIF_KEY|CUR_BOOK_BAL|DATA_SOURCE|GEOGRAPHIC_LOC_CD|LAST_PAYMENT_DATE|LAST_REPRICE_DATE|MARKET_SEGMENT_CD|MATURITY_DATE|OPEN_ACCOUNT_FLG|ORG_BOOK_BAL|ORIGINATION_DATE|REMAIN_TERM_C|REMAIN_TERM_MULT_C|ISSUE_DATE|BDI_LOB_XSELL|CUSTOMER_ID|SERVICE_OUTLET_BKEY|PRODUCT_TYPE_BKEY|Prod_Sub_Type_Code|ACCOUNT_OFFICER|ACCOUNT_OPEN_DATE|AVG_Monthly_BAL|Accrued Interest|Debit_Interest|Unpaid_Item_charge|Min_Bal_Required|Account_type|OverDraft_Status_Ind|Account_Maintenance_Fee|\n",
            "+---------------------+-------------+----------+---------------+---------+--------------+---------+---------+------------+-----------+-----------------+-----------------+-----------------+-----------------+-------------+----------------+------------+----------------+-------------+------------------+----------+-------------+-----------+-------------------+-----------------+------------------+---------------+-----------------+---------------+----------------+--------------+------------------+----------------+------------+--------------------+-----------------------+\n",
            "|      CH-235839978594|     20131129|29-11-2013|            IDR|     NULL|          NULL|    36800| 33605955|      269500|         11|                3|             NULL|       29-11-2013|               12|   01-01-2014|               1|      269500|      29-11-2013|           33|                 D|24-10-2013|            0|     103763|               3680|             DEMD|              SAVG|          RM-56|       15-11-1999|         418251|        16730.04|     2174.9052|        2066.15994|           10000|     Savings|                NULL|               334.6008|\n",
            "|      CH-965554688564|     20131129|29-11-2013|            IDR|     NULL|          NULL|    87281| 33877991| 7001535.222|         11|                7|             NULL|       29-11-2013|               12|   01-01-2014|               1| 7001535.222|      29-11-2013|           33|                 D|03-05-2012|            0|     113907|               8728|             DEMD|              SAVG|          RM-65|       28-07-1997|         480759|         9615.18|     1153.8216|        969.210144|           10000|     Savings|                NULL|               384.6072|\n",
            "|      CH-465554778554|     20131129|29-11-2013|            IDR|     NULL|          NULL|    70200| 33837931|           0|         11|                7|             NULL|       29-11-2013|               12|   01-01-2014|               2|           0|      29-11-2013|           33|                 D|03-05-2012|            0|     112472|               7020|             DEMD|              SAVG|          RM-46|       13-07-2006|         188821|         7552.84|     1057.3976|        962.231816|           10000|     Savings|                NULL|               151.0568|\n",
            "|      CH-42551738004.|     20131129|29-11-2013|            IDR|     NULL|          NULL|    60500| 23691941|  4985825841|         11|                6|             NULL|       29-11-2013|               13|   01-01-2014|               1|  4985825841|      29-11-2013|           33|                 D|13-05-2004|            0|      57422|               6050|             DEMD|              SAVG|           RM-7|       28-01-2010|         279090|          2790.9|       334.908|         277.97364|           10000|     Savings|                NULL|                223.272|\n",
            "|      CH-182047308024|     20131129|29-11-2013|            IDR|     NULL|          NULL|    52600|123343954|           0|         11|                5|             NULL|       29-11-2013|               12|   01-01-2014|               2|           0|      29-11-2013|           33|                 D|18-06-2008|            0|     147348|               5260|             DEMD|              SAVG|          RM-52|       21-11-2010|          64482|         1289.64|       193.446|         160.56018|           10000|     Savings|                NULL|                51.5856|\n",
            "|      CH-195658628504|     20131129|29-11-2013|            IDR|     NULL|          NULL|    10400| 33948921|   31695.686|         11|                1|             NULL|       29-11-2013|               12|   01-01-2014|               2|   31695.686|      29-11-2013|           33|                 D|22-06-2012|            0|     116482|               1040|             DEMD|              SAVG|          RM-25|       25-05-2000|          57543|         2301.72|       230.172|         193.34448|           10000|     Savings|                NULL|                46.0344|\n",
            "|      CH-195664158584|     20131129|29-11-2013|            IDR|     NULL|          NULL|     1600| 33970958| 24487259.29|         11|                1|             NULL|       29-11-2013|               12|   01-01-2014|               1| 24487259.29|      29-11-2013|           33|                 D|04-07-2012|            0|     117299|               1600|             DEMD|              SAVG|          RM-54|       05-07-2000|         152659|         7632.95|      839.6245|         688.49209|           10000|     Savings|                NULL|               122.1272|\n",
            "|      CH-705651228504|     20131129|29-11-2013|            IDR|     NULL|          NULL|     3600| 33064921|  362684.267|         11|                1|             NULL|       29-11-2013|               12|   01-01-2014|               1|  362684.267|      29-11-2013|           33|                 D|18-07-2012|            0|      82954|               3600|             DEMD|              SAVG|          RM-15|       18-11-2004|         400265|         16010.6|       1601.06|         1504.9964|           10000|     Savings|                NULL|                320.212|\n",
            "|      CH-985719648554|     20131129|29-11-2013|            IDR|     NULL|          NULL|    65400| 33331942| 8021376.022|         11|                6|             NULL|       29-11-2013|               12|   01-01-2014|               1| 8021376.022|      29-11-2013|           33|                 D|21-12-2012|            0|      93520|               6540|             DEMD|              SAVG|          RM-40|       16-01-1998|         117321|         3519.63|      457.5519|        370.617039|           10000|     Savings|                NULL|                93.8568|\n",
            "|      CH-212637268054|     20131129|29-11-2013|            IDR|     NULL|          NULL|    73600|123293959|  314554.196|         11|                7|             NULL|       29-11-2013|               12|   01-01-2014|               2|  314554.196|      29-11-2013|           33|                 D|11-04-2005|            0|     143166|               7360|             DEMD|              SAVG|          RM-52|       11-01-1997|         292018|         2920.18|       438.027|         381.08349|           10000|     Savings|                NULL|               233.6144|\n",
            "|      CH-652289318094|     20131129|29-11-2013|            IDR|     NULL|          NULL|     2200| 23554921|  240450.694|         11|                1|             NULL|       29-11-2013|               12|   01-01-2014|               1|  240450.694|      29-11-2013|           33|                 D|04-10-2000|            0|      45481|               2200|             DEMD|              SAVG|          RM-74|       07-04-1999|         147081|         1470.81|       147.081|         133.84371|           10000|     Savings|                NULL|               117.6648|\n",
            "|      CH-815779338584|     20131129|29-11-2013|            IDR|     NULL|          NULL|    37600| 33595976|  353355.442|         11|                3|             NULL|       29-11-2013|               12|   01-01-2014|               1|  13-06-2867|      29-11-2013|           33|                 D|28-02-2013|            0|     103363|               3760|             DEMD|              SAVG|          RM-68|       19-05-2002|         492071|        19682.84|      2952.426|        2598.13488|           10000|     Savings|                NULL|               393.6568|\n",
            "|      CH-615775048544|     20131129|29-11-2013|            IDR|     NULL|          NULL|    52900| 33523997|   60368.594|         11|                5|             NULL|       29-11-2013|               12|   01-01-2014|               1|   60368.594|      29-11-2013|           33|                 D|20-02-2013|            0|     100741|               5290|             DEMD|              SAVG|          RM-97|       09-02-2004|         209251|         4185.02|      460.3522|         437.33459|           10000|     Savings|                NULL|               167.4008|\n",
            "|      CH-425795818524|     20131129|29-11-2013|            IDR|     NULL|          NULL|    42900| 33598936|   13267.122|         11|                4|             NULL|       29-11-2013|               12|   01-01-2014|               1|   13267.122|      29-11-2013|           33|                 D|13-03-2013|            0|     103463|               4290|             DEMD|              SAVG|          RM-83|       17-06-2013|         161368|         6454.72|       968.208|         803.61264|           10000|     Savings|                NULL|               129.0944|\n",
            "|      CH-895721348584|     20131129|29-11-2013|            IDR|     NULL|          NULL|    38500| 33436928|   234942.18|         11|                3|             NULL|       29-11-2013|               12|   01-01-2014|               1|   234942.18|      29-11-2013|           33|                 D|21-01-2013|            0|      97472|               3850|             DEMD|              SAVG|           RM-5|       21-08-2013|         452844|         4528.44|      588.6972|        547.488396|           10000|     Savings|                NULL|               362.2752|\n",
            "|      CH-905737608584|     20131129|29-11-2013|            IDR|     NULL|          NULL|     3500| 33409966|   73923.333|         11|                1|             NULL|       29-11-2013|               12|   01-01-2014|               1|   73923.333|      29-11-2013|           33|                 D|04-02-2013|            0|      96483|               3500|             DEMD|              SAVG|           RM-1|       02-03-2003|         341444|         6828.88|      751.1768|        608.453208|           10000|     Savings|                NULL|               273.1552|\n",
            "|      CH-715755148544|     20131129|29-11-2013|            IDR|     NULL|          NULL|    30400| 33503976|   27787.529|         11|                3|             NULL|       29-11-2013|               12|   01-01-2014|               2|   27787.529|      29-11-2013|           33|                 D|20-02-2013|            0|     100068|               3040|             DEMD|              SAVG|          RM-89|       14-08-2003|         150105|         1501.05|      195.1365|         163.91466|           10000|     Savings|                NULL|                120.084|\n",
            "|      CH-815745618544|     20131129|29-11-2013|            IDR|     NULL|          NULL|    18200| 33225913| 1146558.512|         11|                1|             NULL|       29-11-2013|               12|   01-01-2014|               1| 1146558.512|      29-11-2013|           33|                 D|20-02-2013|            0|      89213|               1820|             DEMD|              SAVG|          RM-38|       04-01-2010|         255753|        10230.12|     1125.3132|       1035.288144|           10000|     Savings|                NULL|               204.6024|\n",
            "|      CH-725727978514|     20131129|29-11-2013|            IDR|     NULL|          NULL|    40400| 33549902|   43487.873|         11|                4|             NULL|       29-11-2013|               12|   01-01-2014|               1|   43487.873|      29-11-2013|           33|                 D|15-03-2013|            0|     101634|               4040|             DEMD|              SAVG|          RM-49|       25-11-2008|         347222|        13888.88|      1388.888|        1277.77696|           10000|     Savings|                NULL|               277.7776|\n",
            "|      CH-335665898524|     20131129|29-11-2013|            IDR|     NULL|          NULL|     7800| 33175992|           0|         11|                1|             NULL|       29-11-2013|               12|   01-01-2014|               2|           0|      29-11-2013|           33|                 D|07-09-2012|            0|      87292|               7800|             DEMD|              SAVG|          RM-35|       08-10-2002|         397547|        19877.35|      2782.829|        2560.20268|           10000|     Savings|                NULL|               318.0376|\n",
            "+---------------------+-------------+----------+---------------+---------+--------------+---------+---------+------------+-----------+-----------------+-----------------+-----------------+-----------------+-------------+----------------+------------+----------------+-------------+------------------+----------+-------------+-----------+-------------------+-----------------+------------------+---------------+-----------------+---------------+----------------+--------------+------------------+----------------+------------+--------------------+-----------------------+\n",
            "only showing top 20 rows\n",
            "\n"
          ]
        }
      ]
    },
    {
      "cell_type": "markdown",
      "source": [
        "#### Without using col (Null Values)"
      ],
      "metadata": {
        "id": "_ipiBfFnc-nR"
      }
    },
    {
      "cell_type": "code",
      "source": [
        "# Data where OverDraft_Status_Ind is NUll\n",
        "# df.count()\n",
        "df.filter(df.OverDraft_Status_Ind.isNull()).count()\n",
        "# df.filter(\"OverDraft_Status_Ind is NULL\").count()"
      ],
      "metadata": {
        "colab": {
          "base_uri": "https://localhost:8080/"
        },
        "id": "MkHOZyabcZ8v",
        "outputId": "4bb1d27b-5958-42ce-8ed9-9fe01e9189ad"
      },
      "execution_count": null,
      "outputs": [
        {
          "output_type": "execute_result",
          "data": {
            "text/plain": [
              "26717"
            ]
          },
          "metadata": {},
          "execution_count": 45
        }
      ]
    },
    {
      "cell_type": "code",
      "source": [
        "df.na.fill(value=0, subset='OverDraft_Status_Ind').show()"
      ],
      "metadata": {
        "colab": {
          "base_uri": "https://localhost:8080/"
        },
        "id": "9ZqXCnDkd5Xc",
        "outputId": "371b2ed5-7358-4e95-9428-8b7067c85587"
      },
      "execution_count": null,
      "outputs": [
        {
          "output_type": "stream",
          "name": "stdout",
          "text": [
            "+---------------------+-------------+----------+---------------+---------+--------------+---------+---------+------------+-----------+-----------------+-----------------+-----------------+-----------------+-------------+----------------+------------+----------------+-------------+------------------+----------+-------------+-----------+-------------------+-----------------+------------------+---------------+-----------------+---------------+----------------+--------------+------------------+----------------+------------+--------------------+-----------------------+\n",
            "|PRODUCT_INSTANCE_BKEY|IDENTITY_CODE|AS_OF_DATE|ISO_CURRENCY_CD|AMRT_TERM|AMRT_TERM_MULT|BRANCH_CD|  CIF_KEY|CUR_BOOK_BAL|DATA_SOURCE|GEOGRAPHIC_LOC_CD|LAST_PAYMENT_DATE|LAST_REPRICE_DATE|MARKET_SEGMENT_CD|MATURITY_DATE|OPEN_ACCOUNT_FLG|ORG_BOOK_BAL|ORIGINATION_DATE|REMAIN_TERM_C|REMAIN_TERM_MULT_C|ISSUE_DATE|BDI_LOB_XSELL|CUSTOMER_ID|SERVICE_OUTLET_BKEY|PRODUCT_TYPE_BKEY|Prod_Sub_Type_Code|ACCOUNT_OFFICER|ACCOUNT_OPEN_DATE|AVG_Monthly_BAL|Accrued Interest|Debit_Interest|Unpaid_Item_charge|Min_Bal_Required|Account_type|OverDraft_Status_Ind|Account_Maintenance_Fee|\n",
            "+---------------------+-------------+----------+---------------+---------+--------------+---------+---------+------------+-----------+-----------------+-----------------+-----------------+-----------------+-------------+----------------+------------+----------------+-------------+------------------+----------+-------------+-----------+-------------------+-----------------+------------------+---------------+-----------------+---------------+----------------+--------------+------------------+----------------+------------+--------------------+-----------------------+\n",
            "|      CH-865526978524|     20131129|29-11-2013|            IDR|     NULL|          NULL|    32000| 33843933|           0|         11|                3|             NULL|       29-11-2013|               12|   01-01-2014|               2|           0|      29-11-2013|           33|                 D|17-04-2012|            0|     112655|               3200|             DEMD|              SAVG|          RM-71|       27-03-1997|         406468|        16258.72|     2276.2208|       2003.074304|           10000|     Savings|                  OD|               325.1744|\n",
            "|      CH-235839978594|     20131129|29-11-2013|            IDR|     NULL|          NULL|    36800| 33605955|      269500|         11|                3|             NULL|       29-11-2013|               12|   01-01-2014|               1|      269500|      29-11-2013|           33|                 D|24-10-2013|            0|     103763|               3680|             DEMD|              SAVG|          RM-56|       15-11-1999|         418251|        16730.04|     2174.9052|        2066.15994|           10000|     Savings|                NULL|               334.6008|\n",
            "|      CH-965554688564|     20131129|29-11-2013|            IDR|     NULL|          NULL|    87281| 33877991| 7001535.222|         11|                7|             NULL|       29-11-2013|               12|   01-01-2014|               1| 7001535.222|      29-11-2013|           33|                 D|03-05-2012|            0|     113907|               8728|             DEMD|              SAVG|          RM-65|       28-07-1997|         480759|         9615.18|     1153.8216|        969.210144|           10000|     Savings|                NULL|               384.6072|\n",
            "|      CH-465554778554|     20131129|29-11-2013|            IDR|     NULL|          NULL|    70200| 33837931|           0|         11|                7|             NULL|       29-11-2013|               12|   01-01-2014|               2|           0|      29-11-2013|           33|                 D|03-05-2012|            0|     112472|               7020|             DEMD|              SAVG|          RM-46|       13-07-2006|         188821|         7552.84|     1057.3976|        962.231816|           10000|     Savings|                NULL|               151.0568|\n",
            "|      CH-42551738004.|     20131129|29-11-2013|            IDR|     NULL|          NULL|    60500| 23691941|  4985825841|         11|                6|             NULL|       29-11-2013|               13|   01-01-2014|               1|  4985825841|      29-11-2013|           33|                 D|13-05-2004|            0|      57422|               6050|             DEMD|              SAVG|           RM-7|       28-01-2010|         279090|          2790.9|       334.908|         277.97364|           10000|     Savings|                NULL|                223.272|\n",
            "|      CH-685626348524|     20131129|29-11-2013|            IDR|     NULL|          NULL|    20900| 33912975|           0|         11|                2|             NULL|       29-11-2013|               12|   01-01-2014|               2|           0|      29-11-2013|           33|                 D|29-05-2012|            0|     115239|               2090|             DEMD|              SAVG|          RM-45|       15-10-2006|         344619|        17230.95|     1895.4045|        1743.77214|           10000|     Savings|                  OD|               275.6952|\n",
            "|      CH-182047308024|     20131129|29-11-2013|            IDR|     NULL|          NULL|    52600|123343954|           0|         11|                5|             NULL|       29-11-2013|               12|   01-01-2014|               2|           0|      29-11-2013|           33|                 D|18-06-2008|            0|     147348|               5260|             DEMD|              SAVG|          RM-52|       21-11-2010|          64482|         1289.64|       193.446|         160.56018|           10000|     Savings|                NULL|                51.5856|\n",
            "|      CH-195658628504|     20131129|29-11-2013|            IDR|     NULL|          NULL|    10400| 33948921|   31695.686|         11|                1|             NULL|       29-11-2013|               12|   01-01-2014|               2|   31695.686|      29-11-2013|           33|                 D|22-06-2012|            0|     116482|               1040|             DEMD|              SAVG|          RM-25|       25-05-2000|          57543|         2301.72|       230.172|         193.34448|           10000|     Savings|                NULL|                46.0344|\n",
            "|      CH-585643478504|     20131129|29-11-2013|            IDR|     NULL|          NULL|    36900| 33935938|           0|         11|                3|             NULL|       29-11-2013|               12|   01-01-2014|               2|           0|      29-11-2013|           33|                 D|13-06-2012|            0|     116024|               3690|             DEMD|              SAVG|           RM-2|       12-07-1998|         100347|         3010.41|      391.3533|        340.477371|           10000|     Savings|                  OD|                80.2776|\n",
            "|      CH-195664158584|     20131129|29-11-2013|            IDR|     NULL|          NULL|     1600| 33970958| 24487259.29|         11|                1|             NULL|       29-11-2013|               12|   01-01-2014|               1| 24487259.29|      29-11-2013|           33|                 D|04-07-2012|            0|     117299|               1600|             DEMD|              SAVG|          RM-54|       05-07-2000|         152659|         7632.95|      839.6245|         688.49209|           10000|     Savings|                NULL|               122.1272|\n",
            "|      CH-705651228504|     20131129|29-11-2013|            IDR|     NULL|          NULL|     3600| 33064921|  362684.267|         11|                1|             NULL|       29-11-2013|               12|   01-01-2014|               1|  362684.267|      29-11-2013|           33|                 D|18-07-2012|            0|      82954|               3600|             DEMD|              SAVG|          RM-15|       18-11-2004|         400265|         16010.6|       1601.06|         1504.9964|           10000|     Savings|                NULL|                320.212|\n",
            "|      CH-985719648554|     20131129|29-11-2013|            IDR|     NULL|          NULL|    65400| 33331942| 8021376.022|         11|                6|             NULL|       29-11-2013|               12|   01-01-2014|               1| 8021376.022|      29-11-2013|           33|                 D|21-12-2012|            0|      93520|               6540|             DEMD|              SAVG|          RM-40|       16-01-1998|         117321|         3519.63|      457.5519|        370.617039|           10000|     Savings|                NULL|                93.8568|\n",
            "|      CH-212637268054|     20131129|29-11-2013|            IDR|     NULL|          NULL|    73600|123293959|  314554.196|         11|                7|             NULL|       29-11-2013|               12|   01-01-2014|               2|  314554.196|      29-11-2013|           33|                 D|11-04-2005|            0|     143166|               7360|             DEMD|              SAVG|          RM-52|       11-01-1997|         292018|         2920.18|       438.027|         381.08349|           10000|     Savings|                NULL|               233.6144|\n",
            "|      CH-652289318094|     20131129|29-11-2013|            IDR|     NULL|          NULL|     2200| 23554921|  240450.694|         11|                1|             NULL|       29-11-2013|               12|   01-01-2014|               1|  240450.694|      29-11-2013|           33|                 D|04-10-2000|            0|      45481|               2200|             DEMD|              SAVG|          RM-74|       07-04-1999|         147081|         1470.81|       147.081|         133.84371|           10000|     Savings|                NULL|               117.6648|\n",
            "|      CH-815779338584|     20131129|29-11-2013|            IDR|     NULL|          NULL|    37600| 33595976|  353355.442|         11|                3|             NULL|       29-11-2013|               12|   01-01-2014|               1|  13-06-2867|      29-11-2013|           33|                 D|28-02-2013|            0|     103363|               3760|             DEMD|              SAVG|          RM-68|       19-05-2002|         492071|        19682.84|      2952.426|        2598.13488|           10000|     Savings|                NULL|               393.6568|\n",
            "|      CH-615775048544|     20131129|29-11-2013|            IDR|     NULL|          NULL|    52900| 33523997|   60368.594|         11|                5|             NULL|       29-11-2013|               12|   01-01-2014|               1|   60368.594|      29-11-2013|           33|                 D|20-02-2013|            0|     100741|               5290|             DEMD|              SAVG|          RM-97|       09-02-2004|         209251|         4185.02|      460.3522|         437.33459|           10000|     Savings|                NULL|               167.4008|\n",
            "|      CH-425795818524|     20131129|29-11-2013|            IDR|     NULL|          NULL|    42900| 33598936|   13267.122|         11|                4|             NULL|       29-11-2013|               12|   01-01-2014|               1|   13267.122|      29-11-2013|           33|                 D|13-03-2013|            0|     103463|               4290|             DEMD|              SAVG|          RM-83|       17-06-2013|         161368|         6454.72|       968.208|         803.61264|           10000|     Savings|                NULL|               129.0944|\n",
            "|      CH-895721348584|     20131129|29-11-2013|            IDR|     NULL|          NULL|    38500| 33436928|   234942.18|         11|                3|             NULL|       29-11-2013|               12|   01-01-2014|               1|   234942.18|      29-11-2013|           33|                 D|21-01-2013|            0|      97472|               3850|             DEMD|              SAVG|           RM-5|       21-08-2013|         452844|         4528.44|      588.6972|        547.488396|           10000|     Savings|                NULL|               362.2752|\n",
            "|      CH-905737608584|     20131129|29-11-2013|            IDR|     NULL|          NULL|     3500| 33409966|   73923.333|         11|                1|             NULL|       29-11-2013|               12|   01-01-2014|               1|   73923.333|      29-11-2013|           33|                 D|04-02-2013|            0|      96483|               3500|             DEMD|              SAVG|           RM-1|       02-03-2003|         341444|         6828.88|      751.1768|        608.453208|           10000|     Savings|                NULL|               273.1552|\n",
            "|      CH-715755148544|     20131129|29-11-2013|            IDR|     NULL|          NULL|    30400| 33503976|   27787.529|         11|                3|             NULL|       29-11-2013|               12|   01-01-2014|               2|   27787.529|      29-11-2013|           33|                 D|20-02-2013|            0|     100068|               3040|             DEMD|              SAVG|          RM-89|       14-08-2003|         150105|         1501.05|      195.1365|         163.91466|           10000|     Savings|                NULL|                120.084|\n",
            "+---------------------+-------------+----------+---------------+---------+--------------+---------+---------+------------+-----------+-----------------+-----------------+-----------------+-----------------+-------------+----------------+------------+----------------+-------------+------------------+----------+-------------+-----------+-------------------+-----------------+------------------+---------------+-----------------+---------------+----------------+--------------+------------------+----------------+------------+--------------------+-----------------------+\n",
            "only showing top 20 rows\n",
            "\n"
          ]
        }
      ]
    },
    {
      "cell_type": "code",
      "source": [
        "df.fillna(0, subset=['AMRT_TERM']).show()"
      ],
      "metadata": {
        "colab": {
          "base_uri": "https://localhost:8080/"
        },
        "id": "xpIbBVHbjNWx",
        "outputId": "b8edcae3-245b-4fc0-f5dd-e249c1a006c9"
      },
      "execution_count": null,
      "outputs": [
        {
          "output_type": "stream",
          "name": "stdout",
          "text": [
            "+---------------------+-------------+----------+---------------+---------+--------------+---------+---------+------------+-----------+-----------------+-----------------+-----------------+-----------------+-------------+----------------+------------+----------------+-------------+------------------+----------+-------------+-----------+-------------------+-----------------+------------------+---------------+-----------------+---------------+----------------+--------------+------------------+----------------+------------+--------------------+-----------------------+\n",
            "|PRODUCT_INSTANCE_BKEY|IDENTITY_CODE|AS_OF_DATE|ISO_CURRENCY_CD|AMRT_TERM|AMRT_TERM_MULT|BRANCH_CD|  CIF_KEY|CUR_BOOK_BAL|DATA_SOURCE|GEOGRAPHIC_LOC_CD|LAST_PAYMENT_DATE|LAST_REPRICE_DATE|MARKET_SEGMENT_CD|MATURITY_DATE|OPEN_ACCOUNT_FLG|ORG_BOOK_BAL|ORIGINATION_DATE|REMAIN_TERM_C|REMAIN_TERM_MULT_C|ISSUE_DATE|BDI_LOB_XSELL|CUSTOMER_ID|SERVICE_OUTLET_BKEY|PRODUCT_TYPE_BKEY|Prod_Sub_Type_Code|ACCOUNT_OFFICER|ACCOUNT_OPEN_DATE|AVG_Monthly_BAL|Accrued Interest|Debit_Interest|Unpaid_Item_charge|Min_Bal_Required|Account_type|OverDraft_Status_Ind|Account_Maintenance_Fee|\n",
            "+---------------------+-------------+----------+---------------+---------+--------------+---------+---------+------------+-----------+-----------------+-----------------+-----------------+-----------------+-------------+----------------+------------+----------------+-------------+------------------+----------+-------------+-----------+-------------------+-----------------+------------------+---------------+-----------------+---------------+----------------+--------------+------------------+----------------+------------+--------------------+-----------------------+\n",
            "|      CH-865526978524|     20131129|29-11-2013|            IDR|     NULL|          NULL|    32000| 33843933|           0|         11|                3|             NULL|       29-11-2013|               12|   01-01-2014|               2|           0|      29-11-2013|           33|                 D|17-04-2012|            0|     112655|               3200|             DEMD|              SAVG|          RM-71|       27-03-1997|         406468|        16258.72|     2276.2208|       2003.074304|           10000|     Savings|                  OD|               325.1744|\n",
            "|      CH-235839978594|     20131129|29-11-2013|            IDR|     NULL|          NULL|    36800| 33605955|      269500|         11|                3|             NULL|       29-11-2013|               12|   01-01-2014|               1|      269500|      29-11-2013|           33|                 D|24-10-2013|            0|     103763|               3680|             DEMD|              SAVG|          RM-56|       15-11-1999|         418251|        16730.04|     2174.9052|        2066.15994|           10000|     Savings|                NULL|               334.6008|\n",
            "|      CH-965554688564|     20131129|29-11-2013|            IDR|     NULL|          NULL|    87281| 33877991| 7001535.222|         11|                7|             NULL|       29-11-2013|               12|   01-01-2014|               1| 7001535.222|      29-11-2013|           33|                 D|03-05-2012|            0|     113907|               8728|             DEMD|              SAVG|          RM-65|       28-07-1997|         480759|         9615.18|     1153.8216|        969.210144|           10000|     Savings|                NULL|               384.6072|\n",
            "|      CH-465554778554|     20131129|29-11-2013|            IDR|     NULL|          NULL|    70200| 33837931|           0|         11|                7|             NULL|       29-11-2013|               12|   01-01-2014|               2|           0|      29-11-2013|           33|                 D|03-05-2012|            0|     112472|               7020|             DEMD|              SAVG|          RM-46|       13-07-2006|         188821|         7552.84|     1057.3976|        962.231816|           10000|     Savings|                NULL|               151.0568|\n",
            "|      CH-42551738004.|     20131129|29-11-2013|            IDR|     NULL|          NULL|    60500| 23691941|  4985825841|         11|                6|             NULL|       29-11-2013|               13|   01-01-2014|               1|  4985825841|      29-11-2013|           33|                 D|13-05-2004|            0|      57422|               6050|             DEMD|              SAVG|           RM-7|       28-01-2010|         279090|          2790.9|       334.908|         277.97364|           10000|     Savings|                NULL|                223.272|\n",
            "|      CH-685626348524|     20131129|29-11-2013|            IDR|     NULL|          NULL|    20900| 33912975|           0|         11|                2|             NULL|       29-11-2013|               12|   01-01-2014|               2|           0|      29-11-2013|           33|                 D|29-05-2012|            0|     115239|               2090|             DEMD|              SAVG|          RM-45|       15-10-2006|         344619|        17230.95|     1895.4045|        1743.77214|           10000|     Savings|                  OD|               275.6952|\n",
            "|      CH-182047308024|     20131129|29-11-2013|            IDR|     NULL|          NULL|    52600|123343954|           0|         11|                5|             NULL|       29-11-2013|               12|   01-01-2014|               2|           0|      29-11-2013|           33|                 D|18-06-2008|            0|     147348|               5260|             DEMD|              SAVG|          RM-52|       21-11-2010|          64482|         1289.64|       193.446|         160.56018|           10000|     Savings|                NULL|                51.5856|\n",
            "|      CH-195658628504|     20131129|29-11-2013|            IDR|     NULL|          NULL|    10400| 33948921|   31695.686|         11|                1|             NULL|       29-11-2013|               12|   01-01-2014|               2|   31695.686|      29-11-2013|           33|                 D|22-06-2012|            0|     116482|               1040|             DEMD|              SAVG|          RM-25|       25-05-2000|          57543|         2301.72|       230.172|         193.34448|           10000|     Savings|                NULL|                46.0344|\n",
            "|      CH-585643478504|     20131129|29-11-2013|            IDR|     NULL|          NULL|    36900| 33935938|           0|         11|                3|             NULL|       29-11-2013|               12|   01-01-2014|               2|           0|      29-11-2013|           33|                 D|13-06-2012|            0|     116024|               3690|             DEMD|              SAVG|           RM-2|       12-07-1998|         100347|         3010.41|      391.3533|        340.477371|           10000|     Savings|                  OD|                80.2776|\n",
            "|      CH-195664158584|     20131129|29-11-2013|            IDR|     NULL|          NULL|     1600| 33970958| 24487259.29|         11|                1|             NULL|       29-11-2013|               12|   01-01-2014|               1| 24487259.29|      29-11-2013|           33|                 D|04-07-2012|            0|     117299|               1600|             DEMD|              SAVG|          RM-54|       05-07-2000|         152659|         7632.95|      839.6245|         688.49209|           10000|     Savings|                NULL|               122.1272|\n",
            "|      CH-705651228504|     20131129|29-11-2013|            IDR|     NULL|          NULL|     3600| 33064921|  362684.267|         11|                1|             NULL|       29-11-2013|               12|   01-01-2014|               1|  362684.267|      29-11-2013|           33|                 D|18-07-2012|            0|      82954|               3600|             DEMD|              SAVG|          RM-15|       18-11-2004|         400265|         16010.6|       1601.06|         1504.9964|           10000|     Savings|                NULL|                320.212|\n",
            "|      CH-985719648554|     20131129|29-11-2013|            IDR|     NULL|          NULL|    65400| 33331942| 8021376.022|         11|                6|             NULL|       29-11-2013|               12|   01-01-2014|               1| 8021376.022|      29-11-2013|           33|                 D|21-12-2012|            0|      93520|               6540|             DEMD|              SAVG|          RM-40|       16-01-1998|         117321|         3519.63|      457.5519|        370.617039|           10000|     Savings|                NULL|                93.8568|\n",
            "|      CH-212637268054|     20131129|29-11-2013|            IDR|     NULL|          NULL|    73600|123293959|  314554.196|         11|                7|             NULL|       29-11-2013|               12|   01-01-2014|               2|  314554.196|      29-11-2013|           33|                 D|11-04-2005|            0|     143166|               7360|             DEMD|              SAVG|          RM-52|       11-01-1997|         292018|         2920.18|       438.027|         381.08349|           10000|     Savings|                NULL|               233.6144|\n",
            "|      CH-652289318094|     20131129|29-11-2013|            IDR|     NULL|          NULL|     2200| 23554921|  240450.694|         11|                1|             NULL|       29-11-2013|               12|   01-01-2014|               1|  240450.694|      29-11-2013|           33|                 D|04-10-2000|            0|      45481|               2200|             DEMD|              SAVG|          RM-74|       07-04-1999|         147081|         1470.81|       147.081|         133.84371|           10000|     Savings|                NULL|               117.6648|\n",
            "|      CH-815779338584|     20131129|29-11-2013|            IDR|     NULL|          NULL|    37600| 33595976|  353355.442|         11|                3|             NULL|       29-11-2013|               12|   01-01-2014|               1|  13-06-2867|      29-11-2013|           33|                 D|28-02-2013|            0|     103363|               3760|             DEMD|              SAVG|          RM-68|       19-05-2002|         492071|        19682.84|      2952.426|        2598.13488|           10000|     Savings|                NULL|               393.6568|\n",
            "|      CH-615775048544|     20131129|29-11-2013|            IDR|     NULL|          NULL|    52900| 33523997|   60368.594|         11|                5|             NULL|       29-11-2013|               12|   01-01-2014|               1|   60368.594|      29-11-2013|           33|                 D|20-02-2013|            0|     100741|               5290|             DEMD|              SAVG|          RM-97|       09-02-2004|         209251|         4185.02|      460.3522|         437.33459|           10000|     Savings|                NULL|               167.4008|\n",
            "|      CH-425795818524|     20131129|29-11-2013|            IDR|     NULL|          NULL|    42900| 33598936|   13267.122|         11|                4|             NULL|       29-11-2013|               12|   01-01-2014|               1|   13267.122|      29-11-2013|           33|                 D|13-03-2013|            0|     103463|               4290|             DEMD|              SAVG|          RM-83|       17-06-2013|         161368|         6454.72|       968.208|         803.61264|           10000|     Savings|                NULL|               129.0944|\n",
            "|      CH-895721348584|     20131129|29-11-2013|            IDR|     NULL|          NULL|    38500| 33436928|   234942.18|         11|                3|             NULL|       29-11-2013|               12|   01-01-2014|               1|   234942.18|      29-11-2013|           33|                 D|21-01-2013|            0|      97472|               3850|             DEMD|              SAVG|           RM-5|       21-08-2013|         452844|         4528.44|      588.6972|        547.488396|           10000|     Savings|                NULL|               362.2752|\n",
            "|      CH-905737608584|     20131129|29-11-2013|            IDR|     NULL|          NULL|     3500| 33409966|   73923.333|         11|                1|             NULL|       29-11-2013|               12|   01-01-2014|               1|   73923.333|      29-11-2013|           33|                 D|04-02-2013|            0|      96483|               3500|             DEMD|              SAVG|           RM-1|       02-03-2003|         341444|         6828.88|      751.1768|        608.453208|           10000|     Savings|                NULL|               273.1552|\n",
            "|      CH-715755148544|     20131129|29-11-2013|            IDR|     NULL|          NULL|    30400| 33503976|   27787.529|         11|                3|             NULL|       29-11-2013|               12|   01-01-2014|               2|   27787.529|      29-11-2013|           33|                 D|20-02-2013|            0|     100068|               3040|             DEMD|              SAVG|          RM-89|       14-08-2003|         150105|         1501.05|      195.1365|         163.91466|           10000|     Savings|                NULL|                120.084|\n",
            "+---------------------+-------------+----------+---------------+---------+--------------+---------+---------+------------+-----------+-----------------+-----------------+-----------------+-----------------+-------------+----------------+------------+----------------+-------------+------------------+----------+-------------+-----------+-------------------+-----------------+------------------+---------------+-----------------+---------------+----------------+--------------+------------------+----------------+------------+--------------------+-----------------------+\n",
            "only showing top 20 rows\n",
            "\n"
          ]
        }
      ]
    },
    {
      "cell_type": "code",
      "source": [
        "df.collect()[0]"
      ],
      "metadata": {
        "colab": {
          "base_uri": "https://localhost:8080/"
        },
        "id": "RimnLhNap_Re",
        "outputId": "72d83caa-2510-4eed-cf89-abde9d087613"
      },
      "execution_count": null,
      "outputs": [
        {
          "output_type": "execute_result",
          "data": {
            "text/plain": [
              "Row(PRODUCT_INSTANCE_BKEY='CH-865526978524', IDENTITY_CODE='20131129', AS_OF_DATE='29-11-2013', ISO_CURRENCY_CD='IDR', AMRT_TERM=None, AMRT_TERM_MULT=None, BRANCH_CD='32000', CIF_KEY='33843933', CUR_BOOK_BAL='0', DATA_SOURCE='11', GEOGRAPHIC_LOC_CD='3', LAST_PAYMENT_DATE=None, LAST_REPRICE_DATE='29-11-2013', MARKET_SEGMENT_CD='12', MATURITY_DATE='01-01-2014', OPEN_ACCOUNT_FLG='2', ORG_BOOK_BAL='0', ORIGINATION_DATE='29-11-2013', REMAIN_TERM_C='33', REMAIN_TERM_MULT_C='D', ISSUE_DATE='17-04-2012', BDI_LOB_XSELL='0', CUSTOMER_ID='112655', SERVICE_OUTLET_BKEY='3200', PRODUCT_TYPE_BKEY='DEMD', Prod_Sub_Type_Code='SAVG', ACCOUNT_OFFICER='RM-71', ACCOUNT_OPEN_DATE='27-03-1997', AVG_Monthly_BAL='406468', Accrued Interest='16258.72', Debit_Interest='2276.2208', Unpaid_Item_charge='2003.074304', Min_Bal_Required='10000', Account_type='Savings', OverDraft_Status_Ind='OD', Account_Maintenance_Fee='325.1744')"
            ]
          },
          "metadata": {},
          "execution_count": 49
        }
      ]
    },
    {
      "cell_type": "code",
      "source": [
        "df.show(n=2)"
      ],
      "metadata": {
        "colab": {
          "base_uri": "https://localhost:8080/"
        },
        "id": "9RU5OetFq5rY",
        "outputId": "72b58c58-5bf9-4d63-a314-396be82a8a0b"
      },
      "execution_count": null,
      "outputs": [
        {
          "output_type": "stream",
          "name": "stdout",
          "text": [
            "+---------------------+-------------+----------+---------------+---------+--------------+---------+--------+------------+-----------+-----------------+-----------------+-----------------+-----------------+-------------+----------------+------------+----------------+-------------+------------------+----------+-------------+-----------+-------------------+-----------------+------------------+---------------+-----------------+---------------+----------------+--------------+------------------+----------------+------------+--------------------+-----------------------+\n",
            "|PRODUCT_INSTANCE_BKEY|IDENTITY_CODE|AS_OF_DATE|ISO_CURRENCY_CD|AMRT_TERM|AMRT_TERM_MULT|BRANCH_CD| CIF_KEY|CUR_BOOK_BAL|DATA_SOURCE|GEOGRAPHIC_LOC_CD|LAST_PAYMENT_DATE|LAST_REPRICE_DATE|MARKET_SEGMENT_CD|MATURITY_DATE|OPEN_ACCOUNT_FLG|ORG_BOOK_BAL|ORIGINATION_DATE|REMAIN_TERM_C|REMAIN_TERM_MULT_C|ISSUE_DATE|BDI_LOB_XSELL|CUSTOMER_ID|SERVICE_OUTLET_BKEY|PRODUCT_TYPE_BKEY|Prod_Sub_Type_Code|ACCOUNT_OFFICER|ACCOUNT_OPEN_DATE|AVG_Monthly_BAL|Accrued Interest|Debit_Interest|Unpaid_Item_charge|Min_Bal_Required|Account_type|OverDraft_Status_Ind|Account_Maintenance_Fee|\n",
            "+---------------------+-------------+----------+---------------+---------+--------------+---------+--------+------------+-----------+-----------------+-----------------+-----------------+-----------------+-------------+----------------+------------+----------------+-------------+------------------+----------+-------------+-----------+-------------------+-----------------+------------------+---------------+-----------------+---------------+----------------+--------------+------------------+----------------+------------+--------------------+-----------------------+\n",
            "|      CH-865526978524|     20131129|29-11-2013|            IDR|     NULL|          NULL|    32000|33843933|           0|         11|                3|             NULL|       29-11-2013|               12|   01-01-2014|               2|           0|      29-11-2013|           33|                 D|17-04-2012|            0|     112655|               3200|             DEMD|              SAVG|          RM-71|       27-03-1997|         406468|        16258.72|     2276.2208|       2003.074304|           10000|     Savings|                  OD|               325.1744|\n",
            "|      CH-235839978594|     20131129|29-11-2013|            IDR|     NULL|          NULL|    36800|33605955|      269500|         11|                3|             NULL|       29-11-2013|               12|   01-01-2014|               1|      269500|      29-11-2013|           33|                 D|24-10-2013|            0|     103763|               3680|             DEMD|              SAVG|          RM-56|       15-11-1999|         418251|        16730.04|     2174.9052|        2066.15994|           10000|     Savings|                NULL|               334.6008|\n",
            "+---------------------+-------------+----------+---------------+---------+--------------+---------+--------+------------+-----------+-----------------+-----------------+-----------------+-----------------+-------------+----------------+------------+----------------+-------------+------------------+----------+-------------+-----------+-------------------+-----------------+------------------+---------------+-----------------+---------------+----------------+--------------+------------------+----------------+------------+--------------------+-----------------------+\n",
            "only showing top 2 rows\n",
            "\n"
          ]
        }
      ]
    },
    {
      "cell_type": "code",
      "source": [
        "from pyspark.sql.functions import coalesce, expr"
      ],
      "metadata": {
        "id": "JJ-OScBCrkzZ"
      },
      "execution_count": null,
      "outputs": []
    },
    {
      "cell_type": "code",
      "source": [
        "df.withColumn('AMRT_TERM', expr(\"nvl(AMRT_TERM, 0)\")).show()"
      ],
      "metadata": {
        "colab": {
          "base_uri": "https://localhost:8080/"
        },
        "id": "4XhqqGf9vrok",
        "outputId": "78fa873a-8945-4d5d-85e6-72f80f582254"
      },
      "execution_count": null,
      "outputs": [
        {
          "output_type": "stream",
          "name": "stdout",
          "text": [
            "+---------------------+-------------+----------+---------------+---------+--------------+---------+---------+------------+-----------+-----------------+-----------------+-----------------+-----------------+-------------+----------------+------------+----------------+-------------+------------------+----------+-------------+-----------+-------------------+-----------------+------------------+---------------+-----------------+---------------+----------------+--------------+------------------+----------------+------------+--------------------+-----------------------+\n",
            "|PRODUCT_INSTANCE_BKEY|IDENTITY_CODE|AS_OF_DATE|ISO_CURRENCY_CD|AMRT_TERM|AMRT_TERM_MULT|BRANCH_CD|  CIF_KEY|CUR_BOOK_BAL|DATA_SOURCE|GEOGRAPHIC_LOC_CD|LAST_PAYMENT_DATE|LAST_REPRICE_DATE|MARKET_SEGMENT_CD|MATURITY_DATE|OPEN_ACCOUNT_FLG|ORG_BOOK_BAL|ORIGINATION_DATE|REMAIN_TERM_C|REMAIN_TERM_MULT_C|ISSUE_DATE|BDI_LOB_XSELL|CUSTOMER_ID|SERVICE_OUTLET_BKEY|PRODUCT_TYPE_BKEY|Prod_Sub_Type_Code|ACCOUNT_OFFICER|ACCOUNT_OPEN_DATE|AVG_Monthly_BAL|Accrued Interest|Debit_Interest|Unpaid_Item_charge|Min_Bal_Required|Account_type|OverDraft_Status_Ind|Account_Maintenance_Fee|\n",
            "+---------------------+-------------+----------+---------------+---------+--------------+---------+---------+------------+-----------+-----------------+-----------------+-----------------+-----------------+-------------+----------------+------------+----------------+-------------+------------------+----------+-------------+-----------+-------------------+-----------------+------------------+---------------+-----------------+---------------+----------------+--------------+------------------+----------------+------------+--------------------+-----------------------+\n",
            "|      CH-865526978524|     20131129|29-11-2013|            IDR|        0|          NULL|    32000| 33843933|           0|         11|                3|             NULL|       29-11-2013|               12|   01-01-2014|               2|           0|      29-11-2013|           33|                 D|17-04-2012|            0|     112655|               3200|             DEMD|              SAVG|          RM-71|       27-03-1997|         406468|        16258.72|     2276.2208|       2003.074304|           10000|     Savings|                  OD|               325.1744|\n",
            "|      CH-235839978594|     20131129|29-11-2013|            IDR|        0|          NULL|    36800| 33605955|      269500|         11|                3|             NULL|       29-11-2013|               12|   01-01-2014|               1|      269500|      29-11-2013|           33|                 D|24-10-2013|            0|     103763|               3680|             DEMD|              SAVG|          RM-56|       15-11-1999|         418251|        16730.04|     2174.9052|        2066.15994|           10000|     Savings|                NULL|               334.6008|\n",
            "|      CH-965554688564|     20131129|29-11-2013|            IDR|        0|          NULL|    87281| 33877991| 7001535.222|         11|                7|             NULL|       29-11-2013|               12|   01-01-2014|               1| 7001535.222|      29-11-2013|           33|                 D|03-05-2012|            0|     113907|               8728|             DEMD|              SAVG|          RM-65|       28-07-1997|         480759|         9615.18|     1153.8216|        969.210144|           10000|     Savings|                NULL|               384.6072|\n",
            "|      CH-465554778554|     20131129|29-11-2013|            IDR|        0|          NULL|    70200| 33837931|           0|         11|                7|             NULL|       29-11-2013|               12|   01-01-2014|               2|           0|      29-11-2013|           33|                 D|03-05-2012|            0|     112472|               7020|             DEMD|              SAVG|          RM-46|       13-07-2006|         188821|         7552.84|     1057.3976|        962.231816|           10000|     Savings|                NULL|               151.0568|\n",
            "|      CH-42551738004.|     20131129|29-11-2013|            IDR|        0|          NULL|    60500| 23691941|  4985825841|         11|                6|             NULL|       29-11-2013|               13|   01-01-2014|               1|  4985825841|      29-11-2013|           33|                 D|13-05-2004|            0|      57422|               6050|             DEMD|              SAVG|           RM-7|       28-01-2010|         279090|          2790.9|       334.908|         277.97364|           10000|     Savings|                NULL|                223.272|\n",
            "|      CH-685626348524|     20131129|29-11-2013|            IDR|        0|          NULL|    20900| 33912975|           0|         11|                2|             NULL|       29-11-2013|               12|   01-01-2014|               2|           0|      29-11-2013|           33|                 D|29-05-2012|            0|     115239|               2090|             DEMD|              SAVG|          RM-45|       15-10-2006|         344619|        17230.95|     1895.4045|        1743.77214|           10000|     Savings|                  OD|               275.6952|\n",
            "|      CH-182047308024|     20131129|29-11-2013|            IDR|        0|          NULL|    52600|123343954|           0|         11|                5|             NULL|       29-11-2013|               12|   01-01-2014|               2|           0|      29-11-2013|           33|                 D|18-06-2008|            0|     147348|               5260|             DEMD|              SAVG|          RM-52|       21-11-2010|          64482|         1289.64|       193.446|         160.56018|           10000|     Savings|                NULL|                51.5856|\n",
            "|      CH-195658628504|     20131129|29-11-2013|            IDR|        0|          NULL|    10400| 33948921|   31695.686|         11|                1|             NULL|       29-11-2013|               12|   01-01-2014|               2|   31695.686|      29-11-2013|           33|                 D|22-06-2012|            0|     116482|               1040|             DEMD|              SAVG|          RM-25|       25-05-2000|          57543|         2301.72|       230.172|         193.34448|           10000|     Savings|                NULL|                46.0344|\n",
            "|      CH-585643478504|     20131129|29-11-2013|            IDR|        0|          NULL|    36900| 33935938|           0|         11|                3|             NULL|       29-11-2013|               12|   01-01-2014|               2|           0|      29-11-2013|           33|                 D|13-06-2012|            0|     116024|               3690|             DEMD|              SAVG|           RM-2|       12-07-1998|         100347|         3010.41|      391.3533|        340.477371|           10000|     Savings|                  OD|                80.2776|\n",
            "|      CH-195664158584|     20131129|29-11-2013|            IDR|        0|          NULL|     1600| 33970958| 24487259.29|         11|                1|             NULL|       29-11-2013|               12|   01-01-2014|               1| 24487259.29|      29-11-2013|           33|                 D|04-07-2012|            0|     117299|               1600|             DEMD|              SAVG|          RM-54|       05-07-2000|         152659|         7632.95|      839.6245|         688.49209|           10000|     Savings|                NULL|               122.1272|\n",
            "|      CH-705651228504|     20131129|29-11-2013|            IDR|        0|          NULL|     3600| 33064921|  362684.267|         11|                1|             NULL|       29-11-2013|               12|   01-01-2014|               1|  362684.267|      29-11-2013|           33|                 D|18-07-2012|            0|      82954|               3600|             DEMD|              SAVG|          RM-15|       18-11-2004|         400265|         16010.6|       1601.06|         1504.9964|           10000|     Savings|                NULL|                320.212|\n",
            "|      CH-985719648554|     20131129|29-11-2013|            IDR|        0|          NULL|    65400| 33331942| 8021376.022|         11|                6|             NULL|       29-11-2013|               12|   01-01-2014|               1| 8021376.022|      29-11-2013|           33|                 D|21-12-2012|            0|      93520|               6540|             DEMD|              SAVG|          RM-40|       16-01-1998|         117321|         3519.63|      457.5519|        370.617039|           10000|     Savings|                NULL|                93.8568|\n",
            "|      CH-212637268054|     20131129|29-11-2013|            IDR|        0|          NULL|    73600|123293959|  314554.196|         11|                7|             NULL|       29-11-2013|               12|   01-01-2014|               2|  314554.196|      29-11-2013|           33|                 D|11-04-2005|            0|     143166|               7360|             DEMD|              SAVG|          RM-52|       11-01-1997|         292018|         2920.18|       438.027|         381.08349|           10000|     Savings|                NULL|               233.6144|\n",
            "|      CH-652289318094|     20131129|29-11-2013|            IDR|        0|          NULL|     2200| 23554921|  240450.694|         11|                1|             NULL|       29-11-2013|               12|   01-01-2014|               1|  240450.694|      29-11-2013|           33|                 D|04-10-2000|            0|      45481|               2200|             DEMD|              SAVG|          RM-74|       07-04-1999|         147081|         1470.81|       147.081|         133.84371|           10000|     Savings|                NULL|               117.6648|\n",
            "|      CH-815779338584|     20131129|29-11-2013|            IDR|        0|          NULL|    37600| 33595976|  353355.442|         11|                3|             NULL|       29-11-2013|               12|   01-01-2014|               1|  13-06-2867|      29-11-2013|           33|                 D|28-02-2013|            0|     103363|               3760|             DEMD|              SAVG|          RM-68|       19-05-2002|         492071|        19682.84|      2952.426|        2598.13488|           10000|     Savings|                NULL|               393.6568|\n",
            "|      CH-615775048544|     20131129|29-11-2013|            IDR|        0|          NULL|    52900| 33523997|   60368.594|         11|                5|             NULL|       29-11-2013|               12|   01-01-2014|               1|   60368.594|      29-11-2013|           33|                 D|20-02-2013|            0|     100741|               5290|             DEMD|              SAVG|          RM-97|       09-02-2004|         209251|         4185.02|      460.3522|         437.33459|           10000|     Savings|                NULL|               167.4008|\n",
            "|      CH-425795818524|     20131129|29-11-2013|            IDR|        0|          NULL|    42900| 33598936|   13267.122|         11|                4|             NULL|       29-11-2013|               12|   01-01-2014|               1|   13267.122|      29-11-2013|           33|                 D|13-03-2013|            0|     103463|               4290|             DEMD|              SAVG|          RM-83|       17-06-2013|         161368|         6454.72|       968.208|         803.61264|           10000|     Savings|                NULL|               129.0944|\n",
            "|      CH-895721348584|     20131129|29-11-2013|            IDR|        0|          NULL|    38500| 33436928|   234942.18|         11|                3|             NULL|       29-11-2013|               12|   01-01-2014|               1|   234942.18|      29-11-2013|           33|                 D|21-01-2013|            0|      97472|               3850|             DEMD|              SAVG|           RM-5|       21-08-2013|         452844|         4528.44|      588.6972|        547.488396|           10000|     Savings|                NULL|               362.2752|\n",
            "|      CH-905737608584|     20131129|29-11-2013|            IDR|        0|          NULL|     3500| 33409966|   73923.333|         11|                1|             NULL|       29-11-2013|               12|   01-01-2014|               1|   73923.333|      29-11-2013|           33|                 D|04-02-2013|            0|      96483|               3500|             DEMD|              SAVG|           RM-1|       02-03-2003|         341444|         6828.88|      751.1768|        608.453208|           10000|     Savings|                NULL|               273.1552|\n",
            "|      CH-715755148544|     20131129|29-11-2013|            IDR|        0|          NULL|    30400| 33503976|   27787.529|         11|                3|             NULL|       29-11-2013|               12|   01-01-2014|               2|   27787.529|      29-11-2013|           33|                 D|20-02-2013|            0|     100068|               3040|             DEMD|              SAVG|          RM-89|       14-08-2003|         150105|         1501.05|      195.1365|         163.91466|           10000|     Savings|                NULL|                120.084|\n",
            "+---------------------+-------------+----------+---------------+---------+--------------+---------+---------+------------+-----------+-----------------+-----------------+-----------------+-----------------+-------------+----------------+------------+----------------+-------------+------------------+----------+-------------+-----------+-------------------+-----------------+------------------+---------------+-----------------+---------------+----------------+--------------+------------------+----------------+------------+--------------------+-----------------------+\n",
            "only showing top 20 rows\n",
            "\n"
          ]
        }
      ]
    },
    {
      "cell_type": "code",
      "source": [],
      "metadata": {
        "colab": {
          "base_uri": "https://localhost:8080/",
          "height": 141
        },
        "id": "EVMRecYTsRHz",
        "outputId": "ccc4e1f7-5203-46f2-9c1d-f111e805a47d"
      },
      "execution_count": null,
      "outputs": [
        {
          "output_type": "error",
          "ename": "SyntaxError",
          "evalue": "ignored",
          "traceback": [
            "\u001b[0;36m  File \u001b[0;32m\"<ipython-input-58-bc957564027d>\"\u001b[0;36m, line \u001b[0;32m1\u001b[0m\n\u001b[0;31m    select * from delta\u001b[0m\n\u001b[0m             ^\u001b[0m\n\u001b[0;31mSyntaxError\u001b[0m\u001b[0;31m:\u001b[0m invalid syntax\n"
          ]
        }
      ]
    }
  ]
}